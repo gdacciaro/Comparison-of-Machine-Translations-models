{
 "metadata": {
  "kernelspec": {
   "language": "python",
   "display_name": "Python 3",
   "name": "python3"
  },
  "language_info": {
   "pygments_lexer": "ipython3",
   "nbconvert_exporter": "python",
   "version": "3.6.4",
   "file_extension": ".py",
   "codemirror_mode": {
    "name": "ipython",
    "version": 3
   },
   "name": "python",
   "mimetype": "text/x-python"
  },
  "colab": {
   "name": "fs_GRU_randomsearch.ipynb",
   "provenance": []
  },
  "accelerator": "GPU",
  "gpuClass": "standard",
  "widgets": {
   "application/vnd.jupyter.widget-state+json": {
    "ad14a76f7ff74273885edf357a878434": {
     "model_module": "@jupyter-widgets/controls",
     "model_name": "HBoxModel",
     "model_module_version": "1.5.0",
     "state": {
      "_dom_classes": [],
      "_model_module": "@jupyter-widgets/controls",
      "_model_module_version": "1.5.0",
      "_model_name": "HBoxModel",
      "_view_count": null,
      "_view_module": "@jupyter-widgets/controls",
      "_view_module_version": "1.5.0",
      "_view_name": "HBoxView",
      "box_style": "",
      "children": [
       "IPY_MODEL_2a4662aee829435eac911b4a7f55760d",
       "IPY_MODEL_ab99f1aebed746968424b1639f0b5088",
       "IPY_MODEL_9bbbd23bb8b049b5b56c42cd69f16a38"
      ],
      "layout": "IPY_MODEL_b8ca8513973f4b819f259be434bb413e"
     }
    },
    "2a4662aee829435eac911b4a7f55760d": {
     "model_module": "@jupyter-widgets/controls",
     "model_name": "HTMLModel",
     "model_module_version": "1.5.0",
     "state": {
      "_dom_classes": [],
      "_model_module": "@jupyter-widgets/controls",
      "_model_module_version": "1.5.0",
      "_model_name": "HTMLModel",
      "_view_count": null,
      "_view_module": "@jupyter-widgets/controls",
      "_view_module_version": "1.5.0",
      "_view_name": "HTMLView",
      "description": "",
      "description_tooltip": null,
      "layout": "IPY_MODEL_d55d2dbca07c458e805a7c00629aad8f",
      "placeholder": "​",
      "style": "IPY_MODEL_b18fee168d764d838c6f923f1776d97e",
      "value": "Downloading builder script: "
     }
    },
    "ab99f1aebed746968424b1639f0b5088": {
     "model_module": "@jupyter-widgets/controls",
     "model_name": "FloatProgressModel",
     "model_module_version": "1.5.0",
     "state": {
      "_dom_classes": [],
      "_model_module": "@jupyter-widgets/controls",
      "_model_module_version": "1.5.0",
      "_model_name": "FloatProgressModel",
      "_view_count": null,
      "_view_module": "@jupyter-widgets/controls",
      "_view_module_version": "1.5.0",
      "_view_name": "ProgressView",
      "bar_style": "success",
      "description": "",
      "description_tooltip": null,
      "layout": "IPY_MODEL_2944e11709e54546bd8a45c5717cb6fb",
      "max": 2463,
      "min": 0,
      "orientation": "horizontal",
      "style": "IPY_MODEL_67d198861cf14d5aab678b31474392a1",
      "value": 2463
     }
    },
    "9bbbd23bb8b049b5b56c42cd69f16a38": {
     "model_module": "@jupyter-widgets/controls",
     "model_name": "HTMLModel",
     "model_module_version": "1.5.0",
     "state": {
      "_dom_classes": [],
      "_model_module": "@jupyter-widgets/controls",
      "_model_module_version": "1.5.0",
      "_model_name": "HTMLModel",
      "_view_count": null,
      "_view_module": "@jupyter-widgets/controls",
      "_view_module_version": "1.5.0",
      "_view_name": "HTMLView",
      "description": "",
      "description_tooltip": null,
      "layout": "IPY_MODEL_303a2cfd7f7e41e6853e7c1b5a63258a",
      "placeholder": "​",
      "style": "IPY_MODEL_462d957a2ccd487ca3129ea7a078d4c4",
      "value": " 5.96k/? [00:00&lt;00:00, 161kB/s]"
     }
    },
    "b8ca8513973f4b819f259be434bb413e": {
     "model_module": "@jupyter-widgets/base",
     "model_name": "LayoutModel",
     "model_module_version": "1.2.0",
     "state": {
      "_model_module": "@jupyter-widgets/base",
      "_model_module_version": "1.2.0",
      "_model_name": "LayoutModel",
      "_view_count": null,
      "_view_module": "@jupyter-widgets/base",
      "_view_module_version": "1.2.0",
      "_view_name": "LayoutView",
      "align_content": null,
      "align_items": null,
      "align_self": null,
      "border": null,
      "bottom": null,
      "display": null,
      "flex": null,
      "flex_flow": null,
      "grid_area": null,
      "grid_auto_columns": null,
      "grid_auto_flow": null,
      "grid_auto_rows": null,
      "grid_column": null,
      "grid_gap": null,
      "grid_row": null,
      "grid_template_areas": null,
      "grid_template_columns": null,
      "grid_template_rows": null,
      "height": null,
      "justify_content": null,
      "justify_items": null,
      "left": null,
      "margin": null,
      "max_height": null,
      "max_width": null,
      "min_height": null,
      "min_width": null,
      "object_fit": null,
      "object_position": null,
      "order": null,
      "overflow": null,
      "overflow_x": null,
      "overflow_y": null,
      "padding": null,
      "right": null,
      "top": null,
      "visibility": null,
      "width": null
     }
    },
    "d55d2dbca07c458e805a7c00629aad8f": {
     "model_module": "@jupyter-widgets/base",
     "model_name": "LayoutModel",
     "model_module_version": "1.2.0",
     "state": {
      "_model_module": "@jupyter-widgets/base",
      "_model_module_version": "1.2.0",
      "_model_name": "LayoutModel",
      "_view_count": null,
      "_view_module": "@jupyter-widgets/base",
      "_view_module_version": "1.2.0",
      "_view_name": "LayoutView",
      "align_content": null,
      "align_items": null,
      "align_self": null,
      "border": null,
      "bottom": null,
      "display": null,
      "flex": null,
      "flex_flow": null,
      "grid_area": null,
      "grid_auto_columns": null,
      "grid_auto_flow": null,
      "grid_auto_rows": null,
      "grid_column": null,
      "grid_gap": null,
      "grid_row": null,
      "grid_template_areas": null,
      "grid_template_columns": null,
      "grid_template_rows": null,
      "height": null,
      "justify_content": null,
      "justify_items": null,
      "left": null,
      "margin": null,
      "max_height": null,
      "max_width": null,
      "min_height": null,
      "min_width": null,
      "object_fit": null,
      "object_position": null,
      "order": null,
      "overflow": null,
      "overflow_x": null,
      "overflow_y": null,
      "padding": null,
      "right": null,
      "top": null,
      "visibility": null,
      "width": null
     }
    },
    "b18fee168d764d838c6f923f1776d97e": {
     "model_module": "@jupyter-widgets/controls",
     "model_name": "DescriptionStyleModel",
     "model_module_version": "1.5.0",
     "state": {
      "_model_module": "@jupyter-widgets/controls",
      "_model_module_version": "1.5.0",
      "_model_name": "DescriptionStyleModel",
      "_view_count": null,
      "_view_module": "@jupyter-widgets/base",
      "_view_module_version": "1.2.0",
      "_view_name": "StyleView",
      "description_width": ""
     }
    },
    "2944e11709e54546bd8a45c5717cb6fb": {
     "model_module": "@jupyter-widgets/base",
     "model_name": "LayoutModel",
     "model_module_version": "1.2.0",
     "state": {
      "_model_module": "@jupyter-widgets/base",
      "_model_module_version": "1.2.0",
      "_model_name": "LayoutModel",
      "_view_count": null,
      "_view_module": "@jupyter-widgets/base",
      "_view_module_version": "1.2.0",
      "_view_name": "LayoutView",
      "align_content": null,
      "align_items": null,
      "align_self": null,
      "border": null,
      "bottom": null,
      "display": null,
      "flex": null,
      "flex_flow": null,
      "grid_area": null,
      "grid_auto_columns": null,
      "grid_auto_flow": null,
      "grid_auto_rows": null,
      "grid_column": null,
      "grid_gap": null,
      "grid_row": null,
      "grid_template_areas": null,
      "grid_template_columns": null,
      "grid_template_rows": null,
      "height": null,
      "justify_content": null,
      "justify_items": null,
      "left": null,
      "margin": null,
      "max_height": null,
      "max_width": null,
      "min_height": null,
      "min_width": null,
      "object_fit": null,
      "object_position": null,
      "order": null,
      "overflow": null,
      "overflow_x": null,
      "overflow_y": null,
      "padding": null,
      "right": null,
      "top": null,
      "visibility": null,
      "width": null
     }
    },
    "67d198861cf14d5aab678b31474392a1": {
     "model_module": "@jupyter-widgets/controls",
     "model_name": "ProgressStyleModel",
     "model_module_version": "1.5.0",
     "state": {
      "_model_module": "@jupyter-widgets/controls",
      "_model_module_version": "1.5.0",
      "_model_name": "ProgressStyleModel",
      "_view_count": null,
      "_view_module": "@jupyter-widgets/base",
      "_view_module_version": "1.2.0",
      "_view_name": "StyleView",
      "bar_color": null,
      "description_width": ""
     }
    },
    "303a2cfd7f7e41e6853e7c1b5a63258a": {
     "model_module": "@jupyter-widgets/base",
     "model_name": "LayoutModel",
     "model_module_version": "1.2.0",
     "state": {
      "_model_module": "@jupyter-widgets/base",
      "_model_module_version": "1.2.0",
      "_model_name": "LayoutModel",
      "_view_count": null,
      "_view_module": "@jupyter-widgets/base",
      "_view_module_version": "1.2.0",
      "_view_name": "LayoutView",
      "align_content": null,
      "align_items": null,
      "align_self": null,
      "border": null,
      "bottom": null,
      "display": null,
      "flex": null,
      "flex_flow": null,
      "grid_area": null,
      "grid_auto_columns": null,
      "grid_auto_flow": null,
      "grid_auto_rows": null,
      "grid_column": null,
      "grid_gap": null,
      "grid_row": null,
      "grid_template_areas": null,
      "grid_template_columns": null,
      "grid_template_rows": null,
      "height": null,
      "justify_content": null,
      "justify_items": null,
      "left": null,
      "margin": null,
      "max_height": null,
      "max_width": null,
      "min_height": null,
      "min_width": null,
      "object_fit": null,
      "object_position": null,
      "order": null,
      "overflow": null,
      "overflow_x": null,
      "overflow_y": null,
      "padding": null,
      "right": null,
      "top": null,
      "visibility": null,
      "width": null
     }
    },
    "462d957a2ccd487ca3129ea7a078d4c4": {
     "model_module": "@jupyter-widgets/controls",
     "model_name": "DescriptionStyleModel",
     "model_module_version": "1.5.0",
     "state": {
      "_model_module": "@jupyter-widgets/controls",
      "_model_module_version": "1.5.0",
      "_model_name": "DescriptionStyleModel",
      "_view_count": null,
      "_view_module": "@jupyter-widgets/base",
      "_view_module_version": "1.2.0",
      "_view_name": "StyleView",
      "description_width": ""
     }
    },
    "a52b47b89e9b47d99ddf508b4370249e": {
     "model_module": "@jupyter-widgets/controls",
     "model_name": "HBoxModel",
     "model_module_version": "1.5.0",
     "state": {
      "_dom_classes": [],
      "_model_module": "@jupyter-widgets/controls",
      "_model_module_version": "1.5.0",
      "_model_name": "HBoxModel",
      "_view_count": null,
      "_view_module": "@jupyter-widgets/controls",
      "_view_module_version": "1.5.0",
      "_view_name": "HBoxView",
      "box_style": "",
      "children": [
       "IPY_MODEL_9aebeae57403458e849b20b683707b91",
       "IPY_MODEL_3a51544364b04c888dc53d2177166b64",
       "IPY_MODEL_fe439ff9f46747f5a9ebc3e3a6dbdb94"
      ],
      "layout": "IPY_MODEL_3f7b8bdbb6b04066954f6d5b48005499"
     }
    },
    "9aebeae57403458e849b20b683707b91": {
     "model_module": "@jupyter-widgets/controls",
     "model_name": "HTMLModel",
     "model_module_version": "1.5.0",
     "state": {
      "_dom_classes": [],
      "_model_module": "@jupyter-widgets/controls",
      "_model_module_version": "1.5.0",
      "_model_name": "HTMLModel",
      "_view_count": null,
      "_view_module": "@jupyter-widgets/controls",
      "_view_module_version": "1.5.0",
      "_view_name": "HTMLView",
      "description": "",
      "description_tooltip": null,
      "layout": "IPY_MODEL_6876e384d74c426984d8f1ce7b44f5df",
      "placeholder": "​",
      "style": "IPY_MODEL_b633cf0cdac34daabb8d59132f8535ef",
      "value": "Downloading extra modules: "
     }
    },
    "3a51544364b04c888dc53d2177166b64": {
     "model_module": "@jupyter-widgets/controls",
     "model_name": "FloatProgressModel",
     "model_module_version": "1.5.0",
     "state": {
      "_dom_classes": [],
      "_model_module": "@jupyter-widgets/controls",
      "_model_module_version": "1.5.0",
      "_model_name": "FloatProgressModel",
      "_view_count": null,
      "_view_module": "@jupyter-widgets/controls",
      "_view_module_version": "1.5.0",
      "_view_name": "ProgressView",
      "bar_style": "success",
      "description": "",
      "description_tooltip": null,
      "layout": "IPY_MODEL_8f56c70a2f3e492a9bb865142bbf35d2",
      "max": 1554,
      "min": 0,
      "orientation": "horizontal",
      "style": "IPY_MODEL_99a4c3a45fe64cf89eef43fc6b17eb59",
      "value": 1554
     }
    },
    "fe439ff9f46747f5a9ebc3e3a6dbdb94": {
     "model_module": "@jupyter-widgets/controls",
     "model_name": "HTMLModel",
     "model_module_version": "1.5.0",
     "state": {
      "_dom_classes": [],
      "_model_module": "@jupyter-widgets/controls",
      "_model_module_version": "1.5.0",
      "_model_name": "HTMLModel",
      "_view_count": null,
      "_view_module": "@jupyter-widgets/controls",
      "_view_module_version": "1.5.0",
      "_view_name": "HTMLView",
      "description": "",
      "description_tooltip": null,
      "layout": "IPY_MODEL_0d38c3d7226c47aea94ddff2ae20fa6f",
      "placeholder": "​",
      "style": "IPY_MODEL_c94e88dcefd8493ca2892fb7a9b88715",
      "value": " 4.07k/? [00:00&lt;00:00, 98.1kB/s]"
     }
    },
    "3f7b8bdbb6b04066954f6d5b48005499": {
     "model_module": "@jupyter-widgets/base",
     "model_name": "LayoutModel",
     "model_module_version": "1.2.0",
     "state": {
      "_model_module": "@jupyter-widgets/base",
      "_model_module_version": "1.2.0",
      "_model_name": "LayoutModel",
      "_view_count": null,
      "_view_module": "@jupyter-widgets/base",
      "_view_module_version": "1.2.0",
      "_view_name": "LayoutView",
      "align_content": null,
      "align_items": null,
      "align_self": null,
      "border": null,
      "bottom": null,
      "display": null,
      "flex": null,
      "flex_flow": null,
      "grid_area": null,
      "grid_auto_columns": null,
      "grid_auto_flow": null,
      "grid_auto_rows": null,
      "grid_column": null,
      "grid_gap": null,
      "grid_row": null,
      "grid_template_areas": null,
      "grid_template_columns": null,
      "grid_template_rows": null,
      "height": null,
      "justify_content": null,
      "justify_items": null,
      "left": null,
      "margin": null,
      "max_height": null,
      "max_width": null,
      "min_height": null,
      "min_width": null,
      "object_fit": null,
      "object_position": null,
      "order": null,
      "overflow": null,
      "overflow_x": null,
      "overflow_y": null,
      "padding": null,
      "right": null,
      "top": null,
      "visibility": null,
      "width": null
     }
    },
    "6876e384d74c426984d8f1ce7b44f5df": {
     "model_module": "@jupyter-widgets/base",
     "model_name": "LayoutModel",
     "model_module_version": "1.2.0",
     "state": {
      "_model_module": "@jupyter-widgets/base",
      "_model_module_version": "1.2.0",
      "_model_name": "LayoutModel",
      "_view_count": null,
      "_view_module": "@jupyter-widgets/base",
      "_view_module_version": "1.2.0",
      "_view_name": "LayoutView",
      "align_content": null,
      "align_items": null,
      "align_self": null,
      "border": null,
      "bottom": null,
      "display": null,
      "flex": null,
      "flex_flow": null,
      "grid_area": null,
      "grid_auto_columns": null,
      "grid_auto_flow": null,
      "grid_auto_rows": null,
      "grid_column": null,
      "grid_gap": null,
      "grid_row": null,
      "grid_template_areas": null,
      "grid_template_columns": null,
      "grid_template_rows": null,
      "height": null,
      "justify_content": null,
      "justify_items": null,
      "left": null,
      "margin": null,
      "max_height": null,
      "max_width": null,
      "min_height": null,
      "min_width": null,
      "object_fit": null,
      "object_position": null,
      "order": null,
      "overflow": null,
      "overflow_x": null,
      "overflow_y": null,
      "padding": null,
      "right": null,
      "top": null,
      "visibility": null,
      "width": null
     }
    },
    "b633cf0cdac34daabb8d59132f8535ef": {
     "model_module": "@jupyter-widgets/controls",
     "model_name": "DescriptionStyleModel",
     "model_module_version": "1.5.0",
     "state": {
      "_model_module": "@jupyter-widgets/controls",
      "_model_module_version": "1.5.0",
      "_model_name": "DescriptionStyleModel",
      "_view_count": null,
      "_view_module": "@jupyter-widgets/base",
      "_view_module_version": "1.2.0",
      "_view_name": "StyleView",
      "description_width": ""
     }
    },
    "8f56c70a2f3e492a9bb865142bbf35d2": {
     "model_module": "@jupyter-widgets/base",
     "model_name": "LayoutModel",
     "model_module_version": "1.2.0",
     "state": {
      "_model_module": "@jupyter-widgets/base",
      "_model_module_version": "1.2.0",
      "_model_name": "LayoutModel",
      "_view_count": null,
      "_view_module": "@jupyter-widgets/base",
      "_view_module_version": "1.2.0",
      "_view_name": "LayoutView",
      "align_content": null,
      "align_items": null,
      "align_self": null,
      "border": null,
      "bottom": null,
      "display": null,
      "flex": null,
      "flex_flow": null,
      "grid_area": null,
      "grid_auto_columns": null,
      "grid_auto_flow": null,
      "grid_auto_rows": null,
      "grid_column": null,
      "grid_gap": null,
      "grid_row": null,
      "grid_template_areas": null,
      "grid_template_columns": null,
      "grid_template_rows": null,
      "height": null,
      "justify_content": null,
      "justify_items": null,
      "left": null,
      "margin": null,
      "max_height": null,
      "max_width": null,
      "min_height": null,
      "min_width": null,
      "object_fit": null,
      "object_position": null,
      "order": null,
      "overflow": null,
      "overflow_x": null,
      "overflow_y": null,
      "padding": null,
      "right": null,
      "top": null,
      "visibility": null,
      "width": null
     }
    },
    "99a4c3a45fe64cf89eef43fc6b17eb59": {
     "model_module": "@jupyter-widgets/controls",
     "model_name": "ProgressStyleModel",
     "model_module_version": "1.5.0",
     "state": {
      "_model_module": "@jupyter-widgets/controls",
      "_model_module_version": "1.5.0",
      "_model_name": "ProgressStyleModel",
      "_view_count": null,
      "_view_module": "@jupyter-widgets/base",
      "_view_module_version": "1.2.0",
      "_view_name": "StyleView",
      "bar_color": null,
      "description_width": ""
     }
    },
    "0d38c3d7226c47aea94ddff2ae20fa6f": {
     "model_module": "@jupyter-widgets/base",
     "model_name": "LayoutModel",
     "model_module_version": "1.2.0",
     "state": {
      "_model_module": "@jupyter-widgets/base",
      "_model_module_version": "1.2.0",
      "_model_name": "LayoutModel",
      "_view_count": null,
      "_view_module": "@jupyter-widgets/base",
      "_view_module_version": "1.2.0",
      "_view_name": "LayoutView",
      "align_content": null,
      "align_items": null,
      "align_self": null,
      "border": null,
      "bottom": null,
      "display": null,
      "flex": null,
      "flex_flow": null,
      "grid_area": null,
      "grid_auto_columns": null,
      "grid_auto_flow": null,
      "grid_auto_rows": null,
      "grid_column": null,
      "grid_gap": null,
      "grid_row": null,
      "grid_template_areas": null,
      "grid_template_columns": null,
      "grid_template_rows": null,
      "height": null,
      "justify_content": null,
      "justify_items": null,
      "left": null,
      "margin": null,
      "max_height": null,
      "max_width": null,
      "min_height": null,
      "min_width": null,
      "object_fit": null,
      "object_position": null,
      "order": null,
      "overflow": null,
      "overflow_x": null,
      "overflow_y": null,
      "padding": null,
      "right": null,
      "top": null,
      "visibility": null,
      "width": null
     }
    },
    "c94e88dcefd8493ca2892fb7a9b88715": {
     "model_module": "@jupyter-widgets/controls",
     "model_name": "DescriptionStyleModel",
     "model_module_version": "1.5.0",
     "state": {
      "_model_module": "@jupyter-widgets/controls",
      "_model_module_version": "1.5.0",
      "_model_name": "DescriptionStyleModel",
      "_view_count": null,
      "_view_module": "@jupyter-widgets/base",
      "_view_module_version": "1.2.0",
      "_view_name": "StyleView",
      "description_width": ""
     }
    },
    "c8b35b18f7234458a1f7b31bd950facf": {
     "model_module": "@jupyter-widgets/controls",
     "model_name": "HBoxModel",
     "model_module_version": "1.5.0",
     "state": {
      "_dom_classes": [],
      "_model_module": "@jupyter-widgets/controls",
      "_model_module_version": "1.5.0",
      "_model_name": "HBoxModel",
      "_view_count": null,
      "_view_module": "@jupyter-widgets/controls",
      "_view_module_version": "1.5.0",
      "_view_name": "HBoxView",
      "box_style": "",
      "children": [
       "IPY_MODEL_f95d7cc94e7047dda680e31b193c8bb1",
       "IPY_MODEL_2ea387ea79b0409dbddd81111c6ea974",
       "IPY_MODEL_172e7db85ff54a7e82bd7302ae30686c"
      ],
      "layout": "IPY_MODEL_a1449b21559042049ff65e5ce7610753"
     }
    },
    "f95d7cc94e7047dda680e31b193c8bb1": {
     "model_module": "@jupyter-widgets/controls",
     "model_name": "HTMLModel",
     "model_module_version": "1.5.0",
     "state": {
      "_dom_classes": [],
      "_model_module": "@jupyter-widgets/controls",
      "_model_module_version": "1.5.0",
      "_model_name": "HTMLModel",
      "_view_count": null,
      "_view_module": "@jupyter-widgets/controls",
      "_view_module_version": "1.5.0",
      "_view_name": "HTMLView",
      "description": "",
      "description_tooltip": null,
      "layout": "IPY_MODEL_ce2043ffbb9647d88dcef28dc2297ad3",
      "placeholder": "​",
      "style": "IPY_MODEL_7a2c56b824e448e992c26628cf4f7590",
      "value": "Downloading extra modules: "
     }
    },
    "2ea387ea79b0409dbddd81111c6ea974": {
     "model_module": "@jupyter-widgets/controls",
     "model_name": "FloatProgressModel",
     "model_module_version": "1.5.0",
     "state": {
      "_dom_classes": [],
      "_model_module": "@jupyter-widgets/controls",
      "_model_module_version": "1.5.0",
      "_model_name": "FloatProgressModel",
      "_view_count": null,
      "_view_module": "@jupyter-widgets/controls",
      "_view_module_version": "1.5.0",
      "_view_name": "ProgressView",
      "bar_style": "success",
      "description": "",
      "description_tooltip": null,
      "layout": "IPY_MODEL_aedaa0b0e8cc4d6398913448b3d36a18",
      "max": 1289,
      "min": 0,
      "orientation": "horizontal",
      "style": "IPY_MODEL_bb5b74ef89764d2d911921acf5d87642",
      "value": 1289
     }
    },
    "172e7db85ff54a7e82bd7302ae30686c": {
     "model_module": "@jupyter-widgets/controls",
     "model_name": "HTMLModel",
     "model_module_version": "1.5.0",
     "state": {
      "_dom_classes": [],
      "_model_module": "@jupyter-widgets/controls",
      "_model_module_version": "1.5.0",
      "_model_name": "HTMLModel",
      "_view_count": null,
      "_view_module": "@jupyter-widgets/controls",
      "_view_module_version": "1.5.0",
      "_view_name": "HTMLView",
      "description": "",
      "description_tooltip": null,
      "layout": "IPY_MODEL_10cadcbd625e425da1c5ecef030b1057",
      "placeholder": "​",
      "style": "IPY_MODEL_c7b35b8d2a19436e89b2a7e8e9316315",
      "value": " 3.34k/? [00:00&lt;00:00, 101kB/s]"
     }
    },
    "a1449b21559042049ff65e5ce7610753": {
     "model_module": "@jupyter-widgets/base",
     "model_name": "LayoutModel",
     "model_module_version": "1.2.0",
     "state": {
      "_model_module": "@jupyter-widgets/base",
      "_model_module_version": "1.2.0",
      "_model_name": "LayoutModel",
      "_view_count": null,
      "_view_module": "@jupyter-widgets/base",
      "_view_module_version": "1.2.0",
      "_view_name": "LayoutView",
      "align_content": null,
      "align_items": null,
      "align_self": null,
      "border": null,
      "bottom": null,
      "display": null,
      "flex": null,
      "flex_flow": null,
      "grid_area": null,
      "grid_auto_columns": null,
      "grid_auto_flow": null,
      "grid_auto_rows": null,
      "grid_column": null,
      "grid_gap": null,
      "grid_row": null,
      "grid_template_areas": null,
      "grid_template_columns": null,
      "grid_template_rows": null,
      "height": null,
      "justify_content": null,
      "justify_items": null,
      "left": null,
      "margin": null,
      "max_height": null,
      "max_width": null,
      "min_height": null,
      "min_width": null,
      "object_fit": null,
      "object_position": null,
      "order": null,
      "overflow": null,
      "overflow_x": null,
      "overflow_y": null,
      "padding": null,
      "right": null,
      "top": null,
      "visibility": null,
      "width": null
     }
    },
    "ce2043ffbb9647d88dcef28dc2297ad3": {
     "model_module": "@jupyter-widgets/base",
     "model_name": "LayoutModel",
     "model_module_version": "1.2.0",
     "state": {
      "_model_module": "@jupyter-widgets/base",
      "_model_module_version": "1.2.0",
      "_model_name": "LayoutModel",
      "_view_count": null,
      "_view_module": "@jupyter-widgets/base",
      "_view_module_version": "1.2.0",
      "_view_name": "LayoutView",
      "align_content": null,
      "align_items": null,
      "align_self": null,
      "border": null,
      "bottom": null,
      "display": null,
      "flex": null,
      "flex_flow": null,
      "grid_area": null,
      "grid_auto_columns": null,
      "grid_auto_flow": null,
      "grid_auto_rows": null,
      "grid_column": null,
      "grid_gap": null,
      "grid_row": null,
      "grid_template_areas": null,
      "grid_template_columns": null,
      "grid_template_rows": null,
      "height": null,
      "justify_content": null,
      "justify_items": null,
      "left": null,
      "margin": null,
      "max_height": null,
      "max_width": null,
      "min_height": null,
      "min_width": null,
      "object_fit": null,
      "object_position": null,
      "order": null,
      "overflow": null,
      "overflow_x": null,
      "overflow_y": null,
      "padding": null,
      "right": null,
      "top": null,
      "visibility": null,
      "width": null
     }
    },
    "7a2c56b824e448e992c26628cf4f7590": {
     "model_module": "@jupyter-widgets/controls",
     "model_name": "DescriptionStyleModel",
     "model_module_version": "1.5.0",
     "state": {
      "_model_module": "@jupyter-widgets/controls",
      "_model_module_version": "1.5.0",
      "_model_name": "DescriptionStyleModel",
      "_view_count": null,
      "_view_module": "@jupyter-widgets/base",
      "_view_module_version": "1.2.0",
      "_view_name": "StyleView",
      "description_width": ""
     }
    },
    "aedaa0b0e8cc4d6398913448b3d36a18": {
     "model_module": "@jupyter-widgets/base",
     "model_name": "LayoutModel",
     "model_module_version": "1.2.0",
     "state": {
      "_model_module": "@jupyter-widgets/base",
      "_model_module_version": "1.2.0",
      "_model_name": "LayoutModel",
      "_view_count": null,
      "_view_module": "@jupyter-widgets/base",
      "_view_module_version": "1.2.0",
      "_view_name": "LayoutView",
      "align_content": null,
      "align_items": null,
      "align_self": null,
      "border": null,
      "bottom": null,
      "display": null,
      "flex": null,
      "flex_flow": null,
      "grid_area": null,
      "grid_auto_columns": null,
      "grid_auto_flow": null,
      "grid_auto_rows": null,
      "grid_column": null,
      "grid_gap": null,
      "grid_row": null,
      "grid_template_areas": null,
      "grid_template_columns": null,
      "grid_template_rows": null,
      "height": null,
      "justify_content": null,
      "justify_items": null,
      "left": null,
      "margin": null,
      "max_height": null,
      "max_width": null,
      "min_height": null,
      "min_width": null,
      "object_fit": null,
      "object_position": null,
      "order": null,
      "overflow": null,
      "overflow_x": null,
      "overflow_y": null,
      "padding": null,
      "right": null,
      "top": null,
      "visibility": null,
      "width": null
     }
    },
    "bb5b74ef89764d2d911921acf5d87642": {
     "model_module": "@jupyter-widgets/controls",
     "model_name": "ProgressStyleModel",
     "model_module_version": "1.5.0",
     "state": {
      "_model_module": "@jupyter-widgets/controls",
      "_model_module_version": "1.5.0",
      "_model_name": "ProgressStyleModel",
      "_view_count": null,
      "_view_module": "@jupyter-widgets/base",
      "_view_module_version": "1.2.0",
      "_view_name": "StyleView",
      "bar_color": null,
      "description_width": ""
     }
    },
    "10cadcbd625e425da1c5ecef030b1057": {
     "model_module": "@jupyter-widgets/base",
     "model_name": "LayoutModel",
     "model_module_version": "1.2.0",
     "state": {
      "_model_module": "@jupyter-widgets/base",
      "_model_module_version": "1.2.0",
      "_model_name": "LayoutModel",
      "_view_count": null,
      "_view_module": "@jupyter-widgets/base",
      "_view_module_version": "1.2.0",
      "_view_name": "LayoutView",
      "align_content": null,
      "align_items": null,
      "align_self": null,
      "border": null,
      "bottom": null,
      "display": null,
      "flex": null,
      "flex_flow": null,
      "grid_area": null,
      "grid_auto_columns": null,
      "grid_auto_flow": null,
      "grid_auto_rows": null,
      "grid_column": null,
      "grid_gap": null,
      "grid_row": null,
      "grid_template_areas": null,
      "grid_template_columns": null,
      "grid_template_rows": null,
      "height": null,
      "justify_content": null,
      "justify_items": null,
      "left": null,
      "margin": null,
      "max_height": null,
      "max_width": null,
      "min_height": null,
      "min_width": null,
      "object_fit": null,
      "object_position": null,
      "order": null,
      "overflow": null,
      "overflow_x": null,
      "overflow_y": null,
      "padding": null,
      "right": null,
      "top": null,
      "visibility": null,
      "width": null
     }
    },
    "c7b35b8d2a19436e89b2a7e8e9316315": {
     "model_module": "@jupyter-widgets/controls",
     "model_name": "DescriptionStyleModel",
     "model_module_version": "1.5.0",
     "state": {
      "_model_module": "@jupyter-widgets/controls",
      "_model_module_version": "1.5.0",
      "_model_name": "DescriptionStyleModel",
      "_view_count": null,
      "_view_module": "@jupyter-widgets/base",
      "_view_module_version": "1.2.0",
      "_view_name": "StyleView",
      "description_width": ""
     }
    }
   }
  }
 },
 "nbformat_minor": 0,
 "nbformat": 4,
 "cells": [
  {
   "cell_type": "code",
   "source": [
    "! pip install sacrebleu sentencepiece &> /dev/null\n",
    "! pip install nltk==3.2.4\n",
    "! pip install evaluate"
   ],
   "metadata": {
    "id": "B-XBkrkOcDo5",
    "execution": {
     "iopub.status.busy": "2022-07-19T10:05:30.903427Z",
     "iopub.execute_input": "2022-07-19T10:05:30.903852Z",
     "iopub.status.idle": "2022-07-19T10:05:52.989647Z",
     "shell.execute_reply.started": "2022-07-19T10:05:30.903763Z",
     "shell.execute_reply": "2022-07-19T10:05:52.988339Z"
    },
    "trusted": true,
    "pycharm": {
     "name": "#%%\n"
    },
    "colab": {
     "base_uri": "https://localhost:8080/"
    },
    "outputId": "640617d8-d550-4e24-d9cb-85e89e10e010"
   },
   "execution_count": 1,
   "outputs": [
    {
     "output_type": "stream",
     "name": "stdout",
     "text": [
      "Looking in indexes: https://pypi.org/simple, https://us-python.pkg.dev/colab-wheels/public/simple/\n",
      "Collecting nltk==3.2.4\n",
      "  Downloading nltk-3.2.4.tar.gz (1.2 MB)\n",
      "\u001B[K     |████████████████████████████████| 1.2 MB 5.1 MB/s \n",
      "\u001B[?25hRequirement already satisfied: six in /usr/local/lib/python3.7/dist-packages (from nltk==3.2.4) (1.15.0)\n",
      "Building wheels for collected packages: nltk\n",
      "  Building wheel for nltk (setup.py) ... \u001B[?25l\u001B[?25hdone\n",
      "  Created wheel for nltk: filename=nltk-3.2.4-py3-none-any.whl size=1367724 sha256=28e17ce3270673b96cf4fef40bc85cadfcfb6731ce56196084ea3ce97005c04a\n",
      "  Stored in directory: /root/.cache/pip/wheels/90/5e/9e/4cb46185f2a16c60e6fc524372ba7fef89ce3347734c8798b6\n",
      "Successfully built nltk\n",
      "Installing collected packages: nltk\n",
      "  Attempting uninstall: nltk\n",
      "    Found existing installation: nltk 3.7\n",
      "    Uninstalling nltk-3.7:\n",
      "      Successfully uninstalled nltk-3.7\n",
      "Successfully installed nltk-3.2.4\n",
      "Looking in indexes: https://pypi.org/simple, https://us-python.pkg.dev/colab-wheels/public/simple/\n",
      "Collecting evaluate\n",
      "  Downloading evaluate-0.1.2-py3-none-any.whl (53 kB)\n",
      "\u001B[K     |████████████████████████████████| 53 kB 2.0 MB/s \n",
      "\u001B[?25hRequirement already satisfied: numpy>=1.17 in /usr/local/lib/python3.7/dist-packages (from evaluate) (1.21.6)\n",
      "Collecting datasets\n",
      "  Downloading datasets-2.3.2-py3-none-any.whl (362 kB)\n",
      "\u001B[K     |████████████████████████████████| 362 kB 10.3 MB/s \n",
      "\u001B[?25hRequirement already satisfied: tqdm>=4.62.1 in /usr/local/lib/python3.7/dist-packages (from evaluate) (4.64.0)\n",
      "Requirement already satisfied: importlib-metadata in /usr/local/lib/python3.7/dist-packages (from evaluate) (4.12.0)\n",
      "Requirement already satisfied: dill in /usr/local/lib/python3.7/dist-packages (from evaluate) (0.3.5.1)\n",
      "Collecting huggingface-hub>=0.7.0\n",
      "  Downloading huggingface_hub-0.8.1-py3-none-any.whl (101 kB)\n",
      "\u001B[K     |████████████████████████████████| 101 kB 13.5 MB/s \n",
      "\u001B[?25hCollecting fsspec[http]>=2021.05.0\n",
      "  Downloading fsspec-2022.5.0-py3-none-any.whl (140 kB)\n",
      "\u001B[K     |████████████████████████████████| 140 kB 72.3 MB/s \n",
      "\u001B[?25hRequirement already satisfied: packaging in /usr/local/lib/python3.7/dist-packages (from evaluate) (21.3)\n",
      "Collecting xxhash\n",
      "  Downloading xxhash-3.0.0-cp37-cp37m-manylinux_2_17_x86_64.manylinux2014_x86_64.whl (212 kB)\n",
      "\u001B[K     |████████████████████████████████| 212 kB 66.3 MB/s \n",
      "\u001B[?25hRequirement already satisfied: pandas in /usr/local/lib/python3.7/dist-packages (from evaluate) (1.3.5)\n",
      "Requirement already satisfied: multiprocess in /usr/local/lib/python3.7/dist-packages (from evaluate) (0.70.13)\n",
      "Collecting responses<0.19\n",
      "  Downloading responses-0.18.0-py3-none-any.whl (38 kB)\n",
      "Requirement already satisfied: requests>=2.19.0 in /usr/local/lib/python3.7/dist-packages (from evaluate) (2.23.0)\n",
      "Collecting aiohttp\n",
      "  Downloading aiohttp-3.8.1-cp37-cp37m-manylinux_2_5_x86_64.manylinux1_x86_64.manylinux_2_12_x86_64.manylinux2010_x86_64.whl (1.1 MB)\n",
      "\u001B[K     |████████████████████████████████| 1.1 MB 67.9 MB/s \n",
      "\u001B[?25hRequirement already satisfied: filelock in /usr/local/lib/python3.7/dist-packages (from huggingface-hub>=0.7.0->evaluate) (3.7.1)\n",
      "Requirement already satisfied: typing-extensions>=3.7.4.3 in /usr/local/lib/python3.7/dist-packages (from huggingface-hub>=0.7.0->evaluate) (4.1.1)\n",
      "Collecting pyyaml>=5.1\n",
      "  Downloading PyYAML-6.0-cp37-cp37m-manylinux_2_5_x86_64.manylinux1_x86_64.manylinux_2_12_x86_64.manylinux2010_x86_64.whl (596 kB)\n",
      "\u001B[K     |████████████████████████████████| 596 kB 61.1 MB/s \n",
      "\u001B[?25hRequirement already satisfied: pyparsing!=3.0.5,>=2.0.2 in /usr/local/lib/python3.7/dist-packages (from packaging->evaluate) (3.0.9)\n",
      "Requirement already satisfied: urllib3!=1.25.0,!=1.25.1,<1.26,>=1.21.1 in /usr/local/lib/python3.7/dist-packages (from requests>=2.19.0->evaluate) (1.24.3)\n",
      "Requirement already satisfied: certifi>=2017.4.17 in /usr/local/lib/python3.7/dist-packages (from requests>=2.19.0->evaluate) (2022.6.15)\n",
      "Requirement already satisfied: chardet<4,>=3.0.2 in /usr/local/lib/python3.7/dist-packages (from requests>=2.19.0->evaluate) (3.0.4)\n",
      "Requirement already satisfied: idna<3,>=2.5 in /usr/local/lib/python3.7/dist-packages (from requests>=2.19.0->evaluate) (2.10)\n",
      "Collecting urllib3!=1.25.0,!=1.25.1,<1.26,>=1.21.1\n",
      "  Downloading urllib3-1.25.11-py2.py3-none-any.whl (127 kB)\n",
      "\u001B[K     |████████████████████████████████| 127 kB 74.4 MB/s \n",
      "\u001B[?25hCollecting frozenlist>=1.1.1\n",
      "  Downloading frozenlist-1.3.0-cp37-cp37m-manylinux_2_5_x86_64.manylinux1_x86_64.manylinux_2_17_x86_64.manylinux2014_x86_64.whl (144 kB)\n",
      "\u001B[K     |████████████████████████████████| 144 kB 71.5 MB/s \n",
      "\u001B[?25hCollecting multidict<7.0,>=4.5\n",
      "  Downloading multidict-6.0.2-cp37-cp37m-manylinux_2_17_x86_64.manylinux2014_x86_64.whl (94 kB)\n",
      "\u001B[K     |████████████████████████████████| 94 kB 4.7 MB/s \n",
      "\u001B[?25hRequirement already satisfied: charset-normalizer<3.0,>=2.0 in /usr/local/lib/python3.7/dist-packages (from aiohttp->fsspec[http]>=2021.05.0->evaluate) (2.1.0)\n",
      "Collecting asynctest==0.13.0\n",
      "  Downloading asynctest-0.13.0-py3-none-any.whl (26 kB)\n",
      "Requirement already satisfied: attrs>=17.3.0 in /usr/local/lib/python3.7/dist-packages (from aiohttp->fsspec[http]>=2021.05.0->evaluate) (21.4.0)\n",
      "Collecting aiosignal>=1.1.2\n",
      "  Downloading aiosignal-1.2.0-py3-none-any.whl (8.2 kB)\n",
      "Collecting yarl<2.0,>=1.0\n",
      "  Downloading yarl-1.7.2-cp37-cp37m-manylinux_2_5_x86_64.manylinux1_x86_64.manylinux_2_12_x86_64.manylinux2010_x86_64.whl (271 kB)\n",
      "\u001B[K     |████████████████████████████████| 271 kB 74.0 MB/s \n",
      "\u001B[?25hCollecting async-timeout<5.0,>=4.0.0a3\n",
      "  Downloading async_timeout-4.0.2-py3-none-any.whl (5.8 kB)\n",
      "Requirement already satisfied: pyarrow>=6.0.0 in /usr/local/lib/python3.7/dist-packages (from datasets->evaluate) (6.0.1)\n",
      "Requirement already satisfied: zipp>=0.5 in /usr/local/lib/python3.7/dist-packages (from importlib-metadata->evaluate) (3.8.1)\n",
      "Requirement already satisfied: python-dateutil>=2.7.3 in /usr/local/lib/python3.7/dist-packages (from pandas->evaluate) (2.8.2)\n",
      "Requirement already satisfied: pytz>=2017.3 in /usr/local/lib/python3.7/dist-packages (from pandas->evaluate) (2022.1)\n",
      "Requirement already satisfied: six>=1.5 in /usr/local/lib/python3.7/dist-packages (from python-dateutil>=2.7.3->pandas->evaluate) (1.15.0)\n",
      "Installing collected packages: multidict, frozenlist, yarl, urllib3, asynctest, async-timeout, aiosignal, pyyaml, fsspec, aiohttp, xxhash, responses, huggingface-hub, datasets, evaluate\n",
      "  Attempting uninstall: urllib3\n",
      "    Found existing installation: urllib3 1.24.3\n",
      "    Uninstalling urllib3-1.24.3:\n",
      "      Successfully uninstalled urllib3-1.24.3\n",
      "  Attempting uninstall: pyyaml\n",
      "    Found existing installation: PyYAML 3.13\n",
      "    Uninstalling PyYAML-3.13:\n",
      "      Successfully uninstalled PyYAML-3.13\n",
      "\u001B[31mERROR: pip's dependency resolver does not currently take into account all the packages that are installed. This behaviour is the source of the following dependency conflicts.\n",
      "datascience 0.10.6 requires folium==0.2.1, but you have folium 0.8.3 which is incompatible.\u001B[0m\n",
      "Successfully installed aiohttp-3.8.1 aiosignal-1.2.0 async-timeout-4.0.2 asynctest-0.13.0 datasets-2.3.2 evaluate-0.1.2 frozenlist-1.3.0 fsspec-2022.5.0 huggingface-hub-0.8.1 multidict-6.0.2 pyyaml-6.0 responses-0.18.0 urllib3-1.25.11 xxhash-3.0.0 yarl-1.7.2\n"
     ]
    }
   ]
  },
  {
   "cell_type": "code",
   "source": [
    "!rm ita-eng.zip &> /dev/null\n",
    "!rm rm -rf dataset &> /dev/null\n",
    "!wget \"https://www.manythings.org/anki/ita-eng.zip\" &> /dev/null\n",
    "!unzip \"ita-eng.zip\" -d \"dataset\" &> /dev/null\n",
    "\n",
    "text_file = \"dataset/ita.txt\""
   ],
   "metadata": {
    "id": "y6EgYLp5T-Tp",
    "execution": {
     "iopub.status.busy": "2022-07-19T10:05:52.992167Z",
     "iopub.execute_input": "2022-07-19T10:05:52.992503Z",
     "iopub.status.idle": "2022-07-19T10:05:56.723071Z",
     "shell.execute_reply.started": "2022-07-19T10:05:52.992473Z",
     "shell.execute_reply": "2022-07-19T10:05:56.721819Z"
    },
    "trusted": true,
    "pycharm": {
     "name": "#%%\n"
    }
   },
   "execution_count": 2,
   "outputs": []
  },
  {
   "cell_type": "code",
   "source": [
    "from __future__ import absolute_import, division, print_function, unicode_literals\n",
    "\n",
    "try:\n",
    "  # %tensorflow_version only exists in Colab.\n",
    "  %tensorflow_version 2.x\n",
    "except Exception:\n",
    "  pass\n",
    "import tensorflow as tf\n",
    "\n",
    "import matplotlib.pyplot as plt\n",
    "import matplotlib.ticker as ticker\n",
    "from sklearn.model_selection import train_test_split\n",
    "import pandas as pd\n",
    "import re\n",
    "import numpy as np\n",
    "import os\n",
    "import io\n",
    "import time\n",
    "from string import digits\n",
    "import warnings; warnings.filterwarnings(\"ignore\")"
   ],
   "metadata": {
    "id": "tnxXKDjq3jEL",
    "execution": {
     "iopub.status.busy": "2022-07-19T10:05:56.726541Z",
     "iopub.execute_input": "2022-07-19T10:05:56.726863Z",
     "iopub.status.idle": "2022-07-19T10:06:01.900612Z",
     "shell.execute_reply.started": "2022-07-19T10:05:56.726834Z",
     "shell.execute_reply": "2022-07-19T10:06:01.899621Z"
    },
    "trusted": true,
    "pycharm": {
     "name": "#%%\n"
    }
   },
   "execution_count": 3,
   "outputs": []
  },
  {
   "cell_type": "code",
   "source": [
    "data_path = \"dataset/ita.txt\"\n",
    "sample_size = 250000\n",
    "EPOCHS = 5\n",
    "num_of_test = 30\n",
    "BATCH_SIZE = 128\n",
    "embedding_dim = 512\n",
    "units = 1024"
   ],
   "metadata": {
    "id": "e9S6YihQT8DI",
    "execution": {
     "iopub.status.busy": "2022-07-19T10:06:01.903396Z",
     "iopub.execute_input": "2022-07-19T10:06:01.904036Z",
     "iopub.status.idle": "2022-07-19T10:06:01.908628Z",
     "shell.execute_reply.started": "2022-07-19T10:06:01.903997Z",
     "shell.execute_reply": "2022-07-19T10:06:01.907686Z"
    },
    "trusted": true,
    "pycharm": {
     "name": "#%%\n"
    }
   },
   "execution_count": 4,
   "outputs": []
  },
  {
   "cell_type": "code",
   "source": [
    "#Read the data\n",
    "lines_raw = pd.read_table(data_path,names=['source', 'target','copyright'])\n",
    "lines_raw.sample(5)"
   ],
   "metadata": {
    "id": "dKjxd5-3T8DK",
    "outputId": "b376d277-6e62-4a1a-fc03-d2ee0d174600",
    "execution": {
     "iopub.status.busy": "2022-07-19T10:06:01.910085Z",
     "iopub.execute_input": "2022-07-19T10:06:01.910733Z",
     "iopub.status.idle": "2022-07-19T10:06:02.830440Z",
     "shell.execute_reply.started": "2022-07-19T10:06:01.910698Z",
     "shell.execute_reply": "2022-07-19T10:06:02.829366Z"
    },
    "trusted": true,
    "pycharm": {
     "name": "#%%\n"
    },
    "colab": {
     "base_uri": "https://localhost:8080/",
     "height": 206
    }
   },
   "execution_count": 5,
   "outputs": [
    {
     "output_type": "execute_result",
     "data": {
      "text/plain": [
       "                                  source  \\\n",
       "257220  I found the picture interesting.   \n",
       "44068                  You aren't funny.   \n",
       "142789          Tom got angry with Mary.   \n",
       "242680   He acted the part of King Lear.   \n",
       "38027                  I'd like to help.   \n",
       "\n",
       "                                      target  \\\n",
       "257220          Trovai la foto interessante.   \n",
       "44068                    Non sei divertente.   \n",
       "142789         Tom si è arrabbiato con Mary.   \n",
       "242680  Lui ha recitato la parte di Re Lear.   \n",
       "38027                        Vorrei aiutare.   \n",
       "\n",
       "                                                copyright  \n",
       "257220  CC-BY 2.0 (France) Attribution: tatoeba.org #4...  \n",
       "44068   CC-BY 2.0 (France) Attribution: tatoeba.org #2...  \n",
       "142789  CC-BY 2.0 (France) Attribution: tatoeba.org #1...  \n",
       "242680  CC-BY 2.0 (France) Attribution: tatoeba.org #2...  \n",
       "38027   CC-BY 2.0 (France) Attribution: tatoeba.org #1...  "
      ],
      "text/html": [
       "\n",
       "  <div id=\"df-90aa81fe-d6a8-4332-ac00-4d42829b00c3\">\n",
       "    <div class=\"colab-df-container\">\n",
       "      <div>\n",
       "<style scoped>\n",
       "    .dataframe tbody tr th:only-of-type {\n",
       "        vertical-align: middle;\n",
       "    }\n",
       "\n",
       "    .dataframe tbody tr th {\n",
       "        vertical-align: top;\n",
       "    }\n",
       "\n",
       "    .dataframe thead th {\n",
       "        text-align: right;\n",
       "    }\n",
       "</style>\n",
       "<table border=\"1\" class=\"dataframe\">\n",
       "  <thead>\n",
       "    <tr style=\"text-align: right;\">\n",
       "      <th></th>\n",
       "      <th>source</th>\n",
       "      <th>target</th>\n",
       "      <th>copyright</th>\n",
       "    </tr>\n",
       "  </thead>\n",
       "  <tbody>\n",
       "    <tr>\n",
       "      <th>257220</th>\n",
       "      <td>I found the picture interesting.</td>\n",
       "      <td>Trovai la foto interessante.</td>\n",
       "      <td>CC-BY 2.0 (France) Attribution: tatoeba.org #4...</td>\n",
       "    </tr>\n",
       "    <tr>\n",
       "      <th>44068</th>\n",
       "      <td>You aren't funny.</td>\n",
       "      <td>Non sei divertente.</td>\n",
       "      <td>CC-BY 2.0 (France) Attribution: tatoeba.org #2...</td>\n",
       "    </tr>\n",
       "    <tr>\n",
       "      <th>142789</th>\n",
       "      <td>Tom got angry with Mary.</td>\n",
       "      <td>Tom si è arrabbiato con Mary.</td>\n",
       "      <td>CC-BY 2.0 (France) Attribution: tatoeba.org #1...</td>\n",
       "    </tr>\n",
       "    <tr>\n",
       "      <th>242680</th>\n",
       "      <td>He acted the part of King Lear.</td>\n",
       "      <td>Lui ha recitato la parte di Re Lear.</td>\n",
       "      <td>CC-BY 2.0 (France) Attribution: tatoeba.org #2...</td>\n",
       "    </tr>\n",
       "    <tr>\n",
       "      <th>38027</th>\n",
       "      <td>I'd like to help.</td>\n",
       "      <td>Vorrei aiutare.</td>\n",
       "      <td>CC-BY 2.0 (France) Attribution: tatoeba.org #1...</td>\n",
       "    </tr>\n",
       "  </tbody>\n",
       "</table>\n",
       "</div>\n",
       "      <button class=\"colab-df-convert\" onclick=\"convertToInteractive('df-90aa81fe-d6a8-4332-ac00-4d42829b00c3')\"\n",
       "              title=\"Convert this dataframe to an interactive table.\"\n",
       "              style=\"display:none;\">\n",
       "        \n",
       "  <svg xmlns=\"http://www.w3.org/2000/svg\" height=\"24px\"viewBox=\"0 0 24 24\"\n",
       "       width=\"24px\">\n",
       "    <path d=\"M0 0h24v24H0V0z\" fill=\"none\"/>\n",
       "    <path d=\"M18.56 5.44l.94 2.06.94-2.06 2.06-.94-2.06-.94-.94-2.06-.94 2.06-2.06.94zm-11 1L8.5 8.5l.94-2.06 2.06-.94-2.06-.94L8.5 2.5l-.94 2.06-2.06.94zm10 10l.94 2.06.94-2.06 2.06-.94-2.06-.94-.94-2.06-.94 2.06-2.06.94z\"/><path d=\"M17.41 7.96l-1.37-1.37c-.4-.4-.92-.59-1.43-.59-.52 0-1.04.2-1.43.59L10.3 9.45l-7.72 7.72c-.78.78-.78 2.05 0 2.83L4 21.41c.39.39.9.59 1.41.59.51 0 1.02-.2 1.41-.59l7.78-7.78 2.81-2.81c.8-.78.8-2.07 0-2.86zM5.41 20L4 18.59l7.72-7.72 1.47 1.35L5.41 20z\"/>\n",
       "  </svg>\n",
       "      </button>\n",
       "      \n",
       "  <style>\n",
       "    .colab-df-container {\n",
       "      display:flex;\n",
       "      flex-wrap:wrap;\n",
       "      gap: 12px;\n",
       "    }\n",
       "\n",
       "    .colab-df-convert {\n",
       "      background-color: #E8F0FE;\n",
       "      border: none;\n",
       "      border-radius: 50%;\n",
       "      cursor: pointer;\n",
       "      display: none;\n",
       "      fill: #1967D2;\n",
       "      height: 32px;\n",
       "      padding: 0 0 0 0;\n",
       "      width: 32px;\n",
       "    }\n",
       "\n",
       "    .colab-df-convert:hover {\n",
       "      background-color: #E2EBFA;\n",
       "      box-shadow: 0px 1px 2px rgba(60, 64, 67, 0.3), 0px 1px 3px 1px rgba(60, 64, 67, 0.15);\n",
       "      fill: #174EA6;\n",
       "    }\n",
       "\n",
       "    [theme=dark] .colab-df-convert {\n",
       "      background-color: #3B4455;\n",
       "      fill: #D2E3FC;\n",
       "    }\n",
       "\n",
       "    [theme=dark] .colab-df-convert:hover {\n",
       "      background-color: #434B5C;\n",
       "      box-shadow: 0px 1px 3px 1px rgba(0, 0, 0, 0.15);\n",
       "      filter: drop-shadow(0px 1px 2px rgba(0, 0, 0, 0.3));\n",
       "      fill: #FFFFFF;\n",
       "    }\n",
       "  </style>\n",
       "\n",
       "      <script>\n",
       "        const buttonEl =\n",
       "          document.querySelector('#df-90aa81fe-d6a8-4332-ac00-4d42829b00c3 button.colab-df-convert');\n",
       "        buttonEl.style.display =\n",
       "          google.colab.kernel.accessAllowed ? 'block' : 'none';\n",
       "\n",
       "        async function convertToInteractive(key) {\n",
       "          const element = document.querySelector('#df-90aa81fe-d6a8-4332-ac00-4d42829b00c3');\n",
       "          const dataTable =\n",
       "            await google.colab.kernel.invokeFunction('convertToInteractive',\n",
       "                                                     [key], {});\n",
       "          if (!dataTable) return;\n",
       "\n",
       "          const docLinkHtml = 'Like what you see? Visit the ' +\n",
       "            '<a target=\"_blank\" href=https://colab.research.google.com/notebooks/data_table.ipynb>data table notebook</a>'\n",
       "            + ' to learn more about interactive tables.';\n",
       "          element.innerHTML = '';\n",
       "          dataTable['output_type'] = 'display_data';\n",
       "          await google.colab.output.renderOutput(dataTable, element);\n",
       "          const docLink = document.createElement('div');\n",
       "          docLink.innerHTML = docLinkHtml;\n",
       "          element.appendChild(docLink);\n",
       "        }\n",
       "      </script>\n",
       "    </div>\n",
       "  </div>\n",
       "  "
      ]
     },
     "metadata": {},
     "execution_count": 5
    }
   ]
  },
  {
   "cell_type": "code",
   "source": [
    "def preprocess_sentence(sentence):\n",
    "    #sentence = unicode_to_ascii(sentence.lower().strip())\n",
    "    num_digits= str.maketrans('','', digits)\n",
    "    \n",
    "    sentence= sentence.lower()\n",
    "    sentence= re.sub(\" +\", \" \", sentence)\n",
    "    sentence= re.sub(\"'\", '', sentence)\n",
    "    sentence= sentence.translate(num_digits)\n",
    "    sentence= sentence.strip()\n",
    "    sentence= re.sub(r\"([?.!,¿])\", r\" \\1 \", sentence)\n",
    "    sentence = sentence.rstrip().strip()\n",
    "    sentence=  'start_ ' + sentence + ' _end'\n",
    "    \n",
    "    return sentence"
   ],
   "metadata": {
    "id": "9xstxKx2T8DM",
    "execution": {
     "iopub.status.busy": "2022-07-19T10:06:02.832049Z",
     "iopub.execute_input": "2022-07-19T10:06:02.834647Z",
     "iopub.status.idle": "2022-07-19T10:06:02.841169Z",
     "shell.execute_reply.started": "2022-07-19T10:06:02.834605Z",
     "shell.execute_reply": "2022-07-19T10:06:02.840119Z"
    },
    "trusted": true,
    "pycharm": {
     "name": "#%%\n"
    }
   },
   "execution_count": 6,
   "outputs": []
  },
  {
   "cell_type": "code",
   "source": [
    "def create_dataset(path, num_examples):\n",
    "  lines = io.open(path, encoding='UTF-8').read().strip().split('\\n')\n",
    "  word_pairs = [[preprocess_sentence(w) for w in l.split('\\t')]  for l in lines[:num_examples]]\n",
    "  return zip(*word_pairs)"
   ],
   "metadata": {
    "id": "OHn4Dct23jEm",
    "execution": {
     "iopub.status.busy": "2022-07-19T10:06:02.842830Z",
     "iopub.execute_input": "2022-07-19T10:06:02.843194Z",
     "iopub.status.idle": "2022-07-19T10:06:02.851873Z",
     "shell.execute_reply.started": "2022-07-19T10:06:02.843159Z",
     "shell.execute_reply": "2022-07-19T10:06:02.851010Z"
    },
    "trusted": true,
    "pycharm": {
     "name": "#%%\n"
    }
   },
   "execution_count": 7,
   "outputs": []
  },
  {
   "cell_type": "code",
   "source": [
    "source, target, _ = create_dataset(data_path, sample_size)"
   ],
   "metadata": {
    "id": "cTbSbBz55QtF",
    "execution": {
     "iopub.status.busy": "2022-07-19T10:06:02.855109Z",
     "iopub.execute_input": "2022-07-19T10:06:02.855389Z",
     "iopub.status.idle": "2022-07-19T10:06:15.026905Z",
     "shell.execute_reply.started": "2022-07-19T10:06:02.855349Z",
     "shell.execute_reply": "2022-07-19T10:06:15.025838Z"
    },
    "trusted": true,
    "pycharm": {
     "name": "#%%\n"
    }
   },
   "execution_count": 8,
   "outputs": []
  },
  {
   "cell_type": "code",
   "source": [
    "def max_length(tensor):\n",
    "  return max(len(t) for t in tensor)"
   ],
   "metadata": {
    "id": "OmMZQpdO60dt",
    "execution": {
     "iopub.status.busy": "2022-07-19T10:06:15.028645Z",
     "iopub.execute_input": "2022-07-19T10:06:15.028999Z",
     "iopub.status.idle": "2022-07-19T10:06:15.033771Z",
     "shell.execute_reply.started": "2022-07-19T10:06:15.028960Z",
     "shell.execute_reply": "2022-07-19T10:06:15.032783Z"
    },
    "trusted": true,
    "pycharm": {
     "name": "#%%\n"
    }
   },
   "execution_count": 9,
   "outputs": []
  },
  {
   "cell_type": "code",
   "source": [
    "source_sentence_tokenizer= tf.keras.preprocessing.text.Tokenizer(filters='')\n",
    "source_sentence_tokenizer.fit_on_texts(source)\n",
    "source_tensor = source_sentence_tokenizer.texts_to_sequences(source)\n",
    "source_tensor= tf.keras.preprocessing.sequence.pad_sequences(source_tensor,padding='post' )"
   ],
   "metadata": {
    "id": "XmlIMMV2T8DQ",
    "execution": {
     "iopub.status.busy": "2022-07-19T10:06:15.039325Z",
     "iopub.execute_input": "2022-07-19T10:06:15.040044Z",
     "iopub.status.idle": "2022-07-19T10:06:21.094705Z",
     "shell.execute_reply.started": "2022-07-19T10:06:15.040006Z",
     "shell.execute_reply": "2022-07-19T10:06:21.093620Z"
    },
    "trusted": true,
    "pycharm": {
     "name": "#%%\n"
    }
   },
   "execution_count": 10,
   "outputs": []
  },
  {
   "cell_type": "code",
   "source": [
    "target_sentence_tokenizer= tf.keras.preprocessing.text.Tokenizer(filters='')\n",
    "target_sentence_tokenizer.fit_on_texts(target)\n",
    "target_tensor = target_sentence_tokenizer.texts_to_sequences(target)\n",
    "target_tensor= tf.keras.preprocessing.sequence.pad_sequences(target_tensor,padding='post' )"
   ],
   "metadata": {
    "id": "mzKSm3H0T8DQ",
    "execution": {
     "iopub.status.busy": "2022-07-19T10:06:21.096426Z",
     "iopub.execute_input": "2022-07-19T10:06:21.096800Z",
     "iopub.status.idle": "2022-07-19T10:06:26.396407Z",
     "shell.execute_reply.started": "2022-07-19T10:06:21.096764Z",
     "shell.execute_reply": "2022-07-19T10:06:26.395379Z"
    },
    "trusted": true,
    "pycharm": {
     "name": "#%%\n"
    }
   },
   "execution_count": 11,
   "outputs": []
  },
  {
   "cell_type": "markdown",
   "source": [
    "### Limit the size of the dataset to experiment faster (optional)\n",
    "\n",
    " To train faster, we can limit the size of the dataset using **sample_size** sentences (of course, translation quality degrades with less data):"
   ],
   "metadata": {
    "id": "GOi42V79Ydlr",
    "pycharm": {
     "name": "#%% md\n"
    }
   }
  },
  {
   "cell_type": "code",
   "source": [
    "max_target_length= max(len(t) for t in  target_tensor)\n",
    "print(max_target_length)\n",
    "max_source_length= max(len(t) for t in  source_tensor)\n",
    "print(max_source_length)"
   ],
   "metadata": {
    "id": "w1USJ8ZDT8DR",
    "outputId": "2c6a0ede-1425-42a7-cc16-dcf9f1518154",
    "execution": {
     "iopub.status.busy": "2022-07-19T10:06:26.397802Z",
     "iopub.execute_input": "2022-07-19T10:06:26.398788Z",
     "iopub.status.idle": "2022-07-19T10:06:26.519854Z",
     "shell.execute_reply.started": "2022-07-19T10:06:26.398747Z",
     "shell.execute_reply": "2022-07-19T10:06:26.518847Z"
    },
    "trusted": true,
    "pycharm": {
     "name": "#%%\n"
    },
    "colab": {
     "base_uri": "https://localhost:8080/"
    }
   },
   "execution_count": 12,
   "outputs": [
    {
     "output_type": "stream",
     "name": "stdout",
     "text": [
      "21\n",
      "13\n"
     ]
    }
   ]
  },
  {
   "cell_type": "markdown",
   "source": [
    "##  Creating Train and Test dataset"
   ],
   "metadata": {
    "id": "8IUlmsZZT8DR",
    "pycharm": {
     "name": "#%% md\n"
    }
   }
  },
  {
   "cell_type": "code",
   "source": [
    "source_train_tensor, source_test_tensor, target_train_tensor, target_test_tensor= train_test_split(source_tensor, target_tensor,test_size=0.2)"
   ],
   "metadata": {
    "id": "qDpLQR88T8DR",
    "execution": {
     "iopub.status.busy": "2022-07-19T10:06:26.522173Z",
     "iopub.execute_input": "2022-07-19T10:06:26.523115Z",
     "iopub.status.idle": "2022-07-19T10:06:26.579344Z",
     "shell.execute_reply.started": "2022-07-19T10:06:26.523076Z",
     "shell.execute_reply": "2022-07-19T10:06:26.578329Z"
    },
    "trusted": true,
    "pycharm": {
     "name": "#%%\n"
    }
   },
   "execution_count": 13,
   "outputs": []
  },
  {
   "cell_type": "code",
   "source": [
    "BUFFER_SIZE = len(source_train_tensor)\n",
    "steps_per_epoch = len(source_train_tensor)//BATCH_SIZE\n",
    "vocab_inp_size = len(source_sentence_tokenizer.word_index)+1\n",
    "vocab_tar_size = len(target_sentence_tokenizer.word_index)+1\n",
    "\n",
    "dataset = tf.data.Dataset.from_tensor_slices((source_train_tensor, target_train_tensor)).shuffle(BUFFER_SIZE)\n",
    "dataset = dataset.batch(BATCH_SIZE, drop_remainder=True)"
   ],
   "metadata": {
    "id": "TqHsArVZ3jFS",
    "execution": {
     "iopub.status.busy": "2022-07-19T10:06:26.589982Z",
     "iopub.execute_input": "2022-07-19T10:06:26.590837Z",
     "iopub.status.idle": "2022-07-19T10:06:29.291063Z",
     "shell.execute_reply.started": "2022-07-19T10:06:26.590800Z",
     "shell.execute_reply": "2022-07-19T10:06:29.290083Z"
    },
    "trusted": true,
    "pycharm": {
     "name": "#%%\n"
    }
   },
   "execution_count": 14,
   "outputs": []
  },
  {
   "cell_type": "code",
   "source": [
    "class Encoder(tf.keras.Model):\n",
    "  def __init__(self, vocab_size, embedding_dim, enc_units, batch_sz):\n",
    "    super(Encoder, self).__init__()\n",
    "    self.batch_sz = batch_sz\n",
    "    self.enc_units = enc_units\n",
    "    self.embedding = tf.keras.layers.Embedding(vocab_size, embedding_dim)\n",
    "    self.gru = tf.keras.layers.GRU(self.enc_units,\n",
    "                                   return_sequences=True,\n",
    "                                   return_state=True,\n",
    "                                   recurrent_initializer='glorot_uniform')\n",
    "\n",
    "  def call(self, x, hidden):\n",
    "    x = self.embedding(x)\n",
    "    output, state = self.gru(x, initial_state = hidden)\n",
    "    return output, state\n",
    "\n",
    "  def initialize_hidden_state(self):\n",
    "    return tf.zeros((self.batch_sz, self.enc_units))"
   ],
   "metadata": {
    "id": "nZ2rI24i3jFg",
    "execution": {
     "iopub.status.busy": "2022-07-19T10:06:29.294676Z",
     "iopub.execute_input": "2022-07-19T10:06:29.294995Z",
     "iopub.status.idle": "2022-07-19T10:06:29.305350Z",
     "shell.execute_reply.started": "2022-07-19T10:06:29.294966Z",
     "shell.execute_reply": "2022-07-19T10:06:29.304422Z"
    },
    "trusted": true,
    "pycharm": {
     "name": "#%%\n"
    }
   },
   "execution_count": 15,
   "outputs": []
  },
  {
   "cell_type": "code",
   "source": [
    "example_input_batch, example_target_batch = next(iter(dataset))\n",
    "example_input_batch.shape, example_target_batch.shape"
   ],
   "metadata": {
    "execution": {
     "iopub.status.busy": "2022-07-19T10:06:29.307146Z",
     "iopub.execute_input": "2022-07-19T10:06:29.308648Z",
     "iopub.status.idle": "2022-07-19T10:06:29.701446Z",
     "shell.execute_reply.started": "2022-07-19T10:06:29.308590Z",
     "shell.execute_reply": "2022-07-19T10:06:29.700360Z"
    },
    "trusted": true,
    "pycharm": {
     "name": "#%%\n"
    },
    "colab": {
     "base_uri": "https://localhost:8080/"
    },
    "id": "stO64lKRfbC1",
    "outputId": "90f2785b-d987-42be-d0f1-680842e41539"
   },
   "execution_count": 16,
   "outputs": [
    {
     "output_type": "execute_result",
     "data": {
      "text/plain": [
       "(TensorShape([128, 13]), TensorShape([128, 21]))"
      ]
     },
     "metadata": {},
     "execution_count": 16
    }
   ]
  },
  {
   "cell_type": "code",
   "source": [
    "encoder = Encoder(vocab_inp_size, embedding_dim, units, BATCH_SIZE)\n",
    "\n",
    "# sample input\n",
    "sample_hidden = encoder.initialize_hidden_state()\n",
    "sample_output, sample_hidden = encoder(example_input_batch, sample_hidden)\n",
    "print ('Encoder output shape: (batch size, sequence length, units) {}'.format(sample_output.shape))\n",
    "print ('Encoder Hidden state shape: (batch size, units) {}'.format(sample_hidden.shape))"
   ],
   "metadata": {
    "id": "60gSVh05Jl6l",
    "outputId": "9f351579-936c-414b-f274-7cc009a22c4b",
    "execution": {
     "iopub.status.busy": "2022-07-19T10:06:29.702763Z",
     "iopub.execute_input": "2022-07-19T10:06:29.703567Z",
     "iopub.status.idle": "2022-07-19T10:06:30.747145Z",
     "shell.execute_reply.started": "2022-07-19T10:06:29.703505Z",
     "shell.execute_reply": "2022-07-19T10:06:30.745977Z"
    },
    "trusted": true,
    "pycharm": {
     "name": "#%%\n"
    },
    "colab": {
     "base_uri": "https://localhost:8080/"
    }
   },
   "execution_count": 17,
   "outputs": [
    {
     "output_type": "stream",
     "name": "stdout",
     "text": [
      "Encoder output shape: (batch size, sequence length, units) (128, 13, 1024)\n",
      "Encoder Hidden state shape: (batch size, units) (128, 1024)\n"
     ]
    }
   ]
  },
  {
   "cell_type": "code",
   "source": [
    "class BahdanauAttention(tf.keras.layers.Layer):\n",
    "  def __init__(self, units):\n",
    "    super(BahdanauAttention, self).__init__()\n",
    "    self.W1 = tf.keras.layers.Dense(units)\n",
    "    self.W2 = tf.keras.layers.Dense(units)\n",
    "    self.V = tf.keras.layers.Dense(1)\n",
    "\n",
    "  def call(self, query, values):\n",
    "    # hidden shape == (batch_size, hidden size)\n",
    "    # hidden_with_time_axis shape == (batch_size, 1, hidden size)\n",
    "    # we are doing this to perform addition to calculate the score\n",
    "    hidden_with_time_axis = tf.expand_dims(query, 1)\n",
    "\n",
    "    # score shape == (batch_size, max_length, 1)\n",
    "    # we get 1 at the last axis because we are applying score to self.V\n",
    "    # the shape of the tensor before applying self.V is (batch_size, max_length, units)\n",
    "    score = self.V(tf.nn.tanh(\n",
    "        self.W1(values) + self.W2(hidden_with_time_axis)))\n",
    "\n",
    "    # attention_weights shape == (batch_size, max_length, 1)\n",
    "    attention_weights = tf.nn.softmax(score, axis=1)\n",
    "\n",
    "    # context_vector shape after sum == (batch_size, hidden_size)\n",
    "    context_vector = attention_weights * values\n",
    "    context_vector = tf.reduce_sum(context_vector, axis=1)\n",
    "\n",
    "    return context_vector, attention_weights"
   ],
   "metadata": {
    "id": "umohpBN2OM94",
    "execution": {
     "iopub.status.busy": "2022-07-19T10:06:30.748808Z",
     "iopub.execute_input": "2022-07-19T10:06:30.749425Z",
     "iopub.status.idle": "2022-07-19T10:06:30.761219Z",
     "shell.execute_reply.started": "2022-07-19T10:06:30.749369Z",
     "shell.execute_reply": "2022-07-19T10:06:30.760076Z"
    },
    "trusted": true,
    "pycharm": {
     "name": "#%%\n"
    }
   },
   "execution_count": 18,
   "outputs": []
  },
  {
   "cell_type": "code",
   "source": [
    "attention_layer = BahdanauAttention(10)\n",
    "attention_result, attention_weights = attention_layer(sample_hidden, sample_output)\n",
    "\n",
    "print(\"Attention result shape: (batch size, units) {}\".format(attention_result.shape))\n",
    "print(\"Attention weights shape: (batch_size, sequence_length, 1) {}\".format(attention_weights.shape))"
   ],
   "metadata": {
    "id": "k534zTHiDjQU",
    "execution": {
     "iopub.status.busy": "2022-07-19T10:06:30.762946Z",
     "iopub.execute_input": "2022-07-19T10:06:30.763569Z",
     "iopub.status.idle": "2022-07-19T10:06:31.731241Z",
     "shell.execute_reply.started": "2022-07-19T10:06:30.763533Z",
     "shell.execute_reply": "2022-07-19T10:06:31.729224Z"
    },
    "trusted": true,
    "pycharm": {
     "name": "#%%\n"
    },
    "colab": {
     "base_uri": "https://localhost:8080/"
    },
    "outputId": "de0b8c46-66a5-440d-afe7-1e365e853fa5"
   },
   "execution_count": 19,
   "outputs": [
    {
     "output_type": "stream",
     "name": "stdout",
     "text": [
      "Attention result shape: (batch size, units) (128, 1024)\n",
      "Attention weights shape: (batch_size, sequence_length, 1) (128, 13, 1)\n"
     ]
    }
   ]
  },
  {
   "cell_type": "code",
   "source": [
    "class Decoder(tf.keras.Model):\n",
    "  def __init__(self, vocab_size, embedding_dim, dec_units, batch_sz):\n",
    "    super(Decoder, self).__init__()\n",
    "    self.batch_sz = batch_sz\n",
    "    self.dec_units = dec_units\n",
    "    self.embedding = tf.keras.layers.Embedding(vocab_size, embedding_dim)\n",
    "    self.gru = tf.keras.layers.GRU(self.dec_units,\n",
    "                                   return_sequences=True,\n",
    "                                   return_state=True,\n",
    "                                   recurrent_initializer='glorot_uniform')\n",
    "    self.fc = tf.keras.layers.Dense(vocab_size)\n",
    "\n",
    "    # used for attention\n",
    "    self.attention = BahdanauAttention(self.dec_units)\n",
    "\n",
    "  def call(self, x, hidden, enc_output):\n",
    "    # enc_output shape == (batch_size, max_length, hidden_size)\n",
    "    context_vector, attention_weights = self.attention(hidden, enc_output)\n",
    "\n",
    "    # x shape after passing through embedding == (batch_size, 1, embedding_dim)\n",
    "    x = self.embedding(x)\n",
    "\n",
    "    # x shape after concatenation == (batch_size, 1, embedding_dim + hidden_size)\n",
    "    x = tf.concat([tf.expand_dims(context_vector, 1), x], axis=-1)\n",
    "\n",
    "    # passing the concatenated vector to the GRU\n",
    "    output, state = self.gru(x)\n",
    "\n",
    "    # output shape == (batch_size * 1, hidden_size)\n",
    "    output = tf.reshape(output, (-1, output.shape[2]))\n",
    "\n",
    "    # output shape == (batch_size, vocab)\n",
    "    x = self.fc(output)\n",
    "\n",
    "    return x, state, attention_weights"
   ],
   "metadata": {
    "id": "yJ_B3mhW3jFk",
    "execution": {
     "iopub.status.busy": "2022-07-19T10:06:31.733514Z",
     "iopub.execute_input": "2022-07-19T10:06:31.734208Z",
     "iopub.status.idle": "2022-07-19T10:06:31.744438Z",
     "shell.execute_reply.started": "2022-07-19T10:06:31.734165Z",
     "shell.execute_reply": "2022-07-19T10:06:31.743424Z"
    },
    "trusted": true,
    "pycharm": {
     "name": "#%%\n"
    }
   },
   "execution_count": 20,
   "outputs": []
  },
  {
   "cell_type": "code",
   "source": [
    "decoder = Decoder(vocab_tar_size, embedding_dim, units, BATCH_SIZE)\n",
    "\n",
    "sample_decoder_output, _, _ = decoder(tf.random.uniform((BATCH_SIZE, 1)),\n",
    "                                      sample_hidden, sample_output)\n",
    "\n",
    "print ('Decoder output shape: (batch_size, vocab size) {}'.format(sample_decoder_output.shape))"
   ],
   "metadata": {
    "id": "P5UY8wko3jFp",
    "execution": {
     "iopub.status.busy": "2022-07-19T10:06:31.747634Z",
     "iopub.execute_input": "2022-07-19T10:06:31.748056Z",
     "iopub.status.idle": "2022-07-19T10:06:31.802362Z",
     "shell.execute_reply.started": "2022-07-19T10:06:31.748026Z",
     "shell.execute_reply": "2022-07-19T10:06:31.801275Z"
    },
    "trusted": true,
    "pycharm": {
     "name": "#%%\n"
    },
    "colab": {
     "base_uri": "https://localhost:8080/"
    },
    "outputId": "1891416c-8c31-4d58-faa3-b92a0a695396"
   },
   "execution_count": 21,
   "outputs": [
    {
     "output_type": "stream",
     "name": "stdout",
     "text": [
      "Decoder output shape: (batch_size, vocab size) (128, 22042)\n"
     ]
    }
   ]
  },
  {
   "cell_type": "code",
   "source": [
    "optimizer = tf.keras.optimizers.Adam()\n",
    "loss_object = tf.keras.losses.SparseCategoricalCrossentropy(\n",
    "    from_logits=True, reduction='none')\n",
    "\n",
    "def loss_function(real, pred):\n",
    "  mask = tf.math.logical_not(tf.math.equal(real, 0))\n",
    "  loss_ = loss_object(real, pred)\n",
    "\n",
    "  mask = tf.cast(mask, dtype=loss_.dtype)\n",
    "  loss_ *= mask\n",
    "\n",
    "  return tf.reduce_mean(loss_)"
   ],
   "metadata": {
    "id": "WmTHr5iV3jFr",
    "execution": {
     "iopub.status.busy": "2022-07-19T10:06:31.803876Z",
     "iopub.execute_input": "2022-07-19T10:06:31.804199Z",
     "iopub.status.idle": "2022-07-19T10:06:31.812585Z",
     "shell.execute_reply.started": "2022-07-19T10:06:31.804165Z",
     "shell.execute_reply": "2022-07-19T10:06:31.811424Z"
    },
    "trusted": true,
    "pycharm": {
     "name": "#%%\n"
    }
   },
   "execution_count": 22,
   "outputs": []
  },
  {
   "cell_type": "code",
   "source": [
    "checkpoint_dir = 'training_checkpoints'\n",
    "checkpoint_prefix = os.path.join(checkpoint_dir, \"ckpt\")\n",
    "checkpoint = tf.train.Checkpoint(optimizer=optimizer,\n",
    "                                 encoder=encoder,\n",
    "                                 decoder=decoder)"
   ],
   "metadata": {
    "id": "Zj8bXQTgNwrF",
    "execution": {
     "iopub.status.busy": "2022-07-19T10:06:31.814332Z",
     "iopub.execute_input": "2022-07-19T10:06:31.814847Z",
     "iopub.status.idle": "2022-07-19T10:06:31.823922Z",
     "shell.execute_reply.started": "2022-07-19T10:06:31.814811Z",
     "shell.execute_reply": "2022-07-19T10:06:31.823026Z"
    },
    "trusted": true,
    "pycharm": {
     "name": "#%%\n"
    }
   },
   "execution_count": 23,
   "outputs": []
  },
  {
   "cell_type": "markdown",
   "source": [
    "## Training\n",
    "\n",
    "1. Pass the *input* through the *encoder* which return *encoder output* and the *encoder hidden state*.\n",
    "2. The encoder output, encoder hidden state and the decoder input (which is the *start token*) is passed to the decoder.\n",
    "3. The decoder returns the *predictions* and the *decoder hidden state*.\n",
    "4. The decoder hidden state is then passed back into the model and the predictions are used to calculate the loss.\n",
    "5. Use *teacher forcing* to decide the next input to the decoder.\n",
    "6. *Teacher forcing* is the technique where the *target word* is passed as the *next input* to the decoder.\n",
    "7. The final step is to calculate the gradients and apply it to the optimizer and backpropagate."
   ],
   "metadata": {
    "id": "hpObfY22IddU",
    "pycharm": {
     "name": "#%% md\n"
    }
   }
  },
  {
   "cell_type": "code",
   "source": [
    "@tf.function\n",
    "def train_step(inp, targ, enc_hidden):\n",
    "  loss = 0\n",
    "\n",
    "  with tf.GradientTape() as tape:\n",
    "    enc_output, enc_hidden = encoder(inp, enc_hidden)\n",
    "\n",
    "    dec_hidden = enc_hidden\n",
    "\n",
    "    dec_input = tf.expand_dims([target_sentence_tokenizer.word_index['start_']] * BATCH_SIZE, 1)\n",
    "\n",
    "    # Teacher forcing - feeding the target as the next input\n",
    "    for t in range(1, targ.shape[1]):\n",
    "      # passing enc_output to the decoder\n",
    "      predictions, dec_hidden, _ = decoder(dec_input, dec_hidden, enc_output)\n",
    "\n",
    "      loss += loss_function(targ[:, t], predictions)\n",
    "\n",
    "      # using teacher forcing\n",
    "      dec_input = tf.expand_dims(targ[:, t], 1)\n",
    "\n",
    "  batch_loss = (loss / int(targ.shape[1]))\n",
    "\n",
    "  variables = encoder.trainable_variables + decoder.trainable_variables\n",
    "\n",
    "  gradients = tape.gradient(loss, variables)\n",
    "\n",
    "  optimizer.apply_gradients(zip(gradients, variables))\n",
    "\n",
    "  return batch_loss"
   ],
   "metadata": {
    "id": "sC9ArXSsVfqn",
    "execution": {
     "iopub.status.busy": "2022-07-19T10:06:31.825194Z",
     "iopub.execute_input": "2022-07-19T10:06:31.825622Z",
     "iopub.status.idle": "2022-07-19T10:06:31.836436Z",
     "shell.execute_reply.started": "2022-07-19T10:06:31.825585Z",
     "shell.execute_reply": "2022-07-19T10:06:31.835164Z"
    },
    "trusted": true,
    "pycharm": {
     "name": "#%%\n"
    }
   },
   "execution_count": 24,
   "outputs": []
  },
  {
   "cell_type": "code",
   "source": [
    "total_time = 0\n",
    "import time\n",
    "for epoch in range(EPOCHS):\n",
    "  start = time.time()\n",
    "\n",
    "  enc_hidden = encoder.initialize_hidden_state()\n",
    "  total_loss = 0\n",
    "\n",
    "  for (batch, (inp, targ)) in enumerate(dataset.take(steps_per_epoch)):\n",
    "    batch_loss = train_step(inp, targ, enc_hidden)\n",
    "    total_loss += batch_loss\n",
    "    if batch % 100 == 0:\n",
    "      print('Epoch {} Batch {} loss {}'.format(epoch + 1,batch, batch_loss.numpy()))\n",
    "   \n",
    "  # saving (checkpoint) the model every 2 epochs\n",
    "  if (epoch + 1) % 2 == 0:\n",
    "    checkpoint.save(file_prefix = checkpoint_prefix)\n",
    "\n",
    "  print('Epoch {} Loss {:.4f}'.format(epoch + 1,\n",
    "                                      total_loss / steps_per_epoch))\n",
    "  print('Time taken for 1 epoch {} sec\\n'.format(time.time() - start))\n",
    "  total_time = total_time + time.time() - start\n",
    "\n",
    "print('Total time taken {} sec\\n'.format(total_time))\n",
    "\n",
    "#Telegram API\n",
    "token = \"5597879510:AAH1FSuZa7lA_xoAp-7JiUDE0OY38p-Tq5M\"\n",
    "theUrl = \"https://api.telegram.org/bot\"+token+\"/sendMessage\"\n",
    "denny = \"36985739\"\n",
    "gruppo = \"-606080513\"\n",
    "who = denny\n",
    "    \n",
    "def sendMessage(text=\"\"):\n",
    "    import json\n",
    "    import requests\n",
    "    data = {'chat_id': who, 'disable_notification': 'false', 'text': text}\n",
    "    headers = {'Content-type': 'application/json', 'Accept': 'text/plain'}\n",
    "    print(data)\n",
    "    requests.post(theUrl, data=json.dumps(data, ensure_ascii=True), headers=headers)\n",
    "\n",
    "sendMessage('GRU [20 epoche] - Total time taken {} sec\\n'.format(total_time))    "
   ],
   "metadata": {
    "id": "ddefjBMa3jF0",
    "execution": {
     "iopub.status.busy": "2022-07-19T10:06:31.837806Z",
     "iopub.execute_input": "2022-07-19T10:06:31.838347Z",
     "iopub.status.idle": "2022-07-19T10:30:49.720504Z",
     "shell.execute_reply.started": "2022-07-19T10:06:31.838311Z",
     "shell.execute_reply": "2022-07-19T10:30:49.719357Z"
    },
    "trusted": true,
    "pycharm": {
     "name": "#%%\n"
    },
    "colab": {
     "base_uri": "https://localhost:8080/"
    },
    "outputId": "b24a8992-7e63-4d27-c9b8-71a67fdef156"
   },
   "execution_count": 25,
   "outputs": [
    {
     "output_type": "stream",
     "name": "stdout",
     "text": [
      "Epoch 1 Batch 0 loss 3.1960318088531494\n",
      "Epoch 1 Batch 100 loss 1.5377833843231201\n",
      "Epoch 1 Batch 200 loss 1.384519100189209\n",
      "Epoch 1 Batch 300 loss 1.3931492567062378\n",
      "Epoch 1 Batch 400 loss 1.3137201070785522\n",
      "Epoch 1 Batch 500 loss 1.276463270187378\n",
      "Epoch 1 Batch 600 loss 1.1971609592437744\n",
      "Epoch 1 Batch 700 loss 1.1932590007781982\n",
      "Epoch 1 Batch 800 loss 1.155234456062317\n",
      "Epoch 1 Batch 900 loss 1.0661602020263672\n",
      "Epoch 1 Batch 1000 loss 1.09079909324646\n",
      "Epoch 1 Batch 1100 loss 1.0205096006393433\n",
      "Epoch 1 Batch 1200 loss 1.0492385625839233\n",
      "Epoch 1 Batch 1300 loss 0.9756131768226624\n",
      "Epoch 1 Batch 1400 loss 0.9941391944885254\n",
      "Epoch 1 Batch 1500 loss 0.8741113543510437\n",
      "Epoch 1 Loss 1.1756\n",
      "Time taken for 1 epoch 561.9295585155487 sec\n",
      "\n",
      "Epoch 2 Batch 0 loss 0.8887646198272705\n",
      "Epoch 2 Batch 100 loss 0.8473026752471924\n",
      "Epoch 2 Batch 200 loss 0.8209403157234192\n",
      "Epoch 2 Batch 300 loss 0.7807292342185974\n",
      "Epoch 2 Batch 400 loss 0.7485247850418091\n",
      "Epoch 2 Batch 500 loss 0.7332770824432373\n",
      "Epoch 2 Batch 600 loss 0.7500937581062317\n",
      "Epoch 2 Batch 700 loss 0.6652365922927856\n",
      "Epoch 2 Batch 800 loss 0.6833223104476929\n",
      "Epoch 2 Batch 900 loss 0.6103949546813965\n",
      "Epoch 2 Batch 1000 loss 0.5908606648445129\n",
      "Epoch 2 Batch 1100 loss 0.6356610655784607\n",
      "Epoch 2 Batch 1200 loss 0.5828337669372559\n",
      "Epoch 2 Batch 1300 loss 0.5487167239189148\n",
      "Epoch 2 Batch 1400 loss 0.5080904960632324\n",
      "Epoch 2 Batch 1500 loss 0.5217112302780151\n",
      "Epoch 2 Loss 0.6665\n",
      "Time taken for 1 epoch 505.43164324760437 sec\n",
      "\n",
      "Epoch 3 Batch 0 loss 0.384373277425766\n",
      "Epoch 3 Batch 100 loss 0.4003514051437378\n",
      "Epoch 3 Batch 200 loss 0.3817952871322632\n",
      "Epoch 3 Batch 300 loss 0.36706578731536865\n",
      "Epoch 3 Batch 400 loss 0.37630870938301086\n",
      "Epoch 3 Batch 500 loss 0.38632819056510925\n",
      "Epoch 3 Batch 600 loss 0.3258631229400635\n",
      "Epoch 3 Batch 700 loss 0.32241249084472656\n",
      "Epoch 3 Batch 800 loss 0.30071690678596497\n",
      "Epoch 3 Batch 900 loss 0.3084048926830292\n",
      "Epoch 3 Batch 1000 loss 0.2997281849384308\n",
      "Epoch 3 Batch 1100 loss 0.30223363637924194\n",
      "Epoch 3 Batch 1200 loss 0.2855093479156494\n",
      "Epoch 3 Batch 1300 loss 0.3100367784500122\n",
      "Epoch 3 Batch 1400 loss 0.28344714641571045\n",
      "Epoch 3 Batch 1500 loss 0.2366645783185959\n",
      "Epoch 3 Loss 0.3315\n",
      "Time taken for 1 epoch 513.3812506198883 sec\n",
      "\n",
      "Epoch 4 Batch 0 loss 0.19786444306373596\n",
      "Epoch 4 Batch 100 loss 0.20856450498104095\n",
      "Epoch 4 Batch 200 loss 0.1829121708869934\n",
      "Epoch 4 Batch 300 loss 0.21530160307884216\n",
      "Epoch 4 Batch 400 loss 0.1992240697145462\n",
      "Epoch 4 Batch 500 loss 0.21592654287815094\n",
      "Epoch 4 Batch 600 loss 0.2276010513305664\n",
      "Epoch 4 Batch 700 loss 0.1996125727891922\n",
      "Epoch 4 Batch 800 loss 0.19915463030338287\n",
      "Epoch 4 Batch 900 loss 0.19836099445819855\n",
      "Epoch 4 Batch 1000 loss 0.19968001544475555\n",
      "Epoch 4 Batch 1100 loss 0.2039564698934555\n",
      "Epoch 4 Batch 1200 loss 0.20003513991832733\n",
      "Epoch 4 Batch 1300 loss 0.196104034781456\n",
      "Epoch 4 Batch 1400 loss 0.22669386863708496\n",
      "Epoch 4 Batch 1500 loss 0.19214864075183868\n",
      "Epoch 4 Loss 0.2038\n",
      "Time taken for 1 epoch 515.6166305541992 sec\n",
      "\n",
      "Epoch 5 Batch 0 loss 0.14519630372524261\n",
      "Epoch 5 Batch 100 loss 0.13513121008872986\n",
      "Epoch 5 Batch 200 loss 0.15251851081848145\n",
      "Epoch 5 Batch 300 loss 0.15172576904296875\n",
      "Epoch 5 Batch 400 loss 0.14981788396835327\n",
      "Epoch 5 Batch 500 loss 0.1426870971918106\n",
      "Epoch 5 Batch 600 loss 0.17441636323928833\n",
      "Epoch 5 Batch 700 loss 0.14272910356521606\n",
      "Epoch 5 Batch 800 loss 0.1533048450946808\n",
      "Epoch 5 Batch 900 loss 0.15737274289131165\n",
      "Epoch 5 Batch 1000 loss 0.15581391751766205\n",
      "Epoch 5 Batch 1100 loss 0.15537728369235992\n",
      "Epoch 5 Batch 1200 loss 0.15197795629501343\n",
      "Epoch 5 Batch 1300 loss 0.14961574971675873\n",
      "Epoch 5 Batch 1400 loss 0.14443090558052063\n",
      "Epoch 5 Batch 1500 loss 0.15299387276172638\n",
      "Epoch 5 Loss 0.1566\n",
      "Time taken for 1 epoch 513.4884488582611 sec\n",
      "\n",
      "Total time taken 2609.8481068611145 sec\n",
      "\n",
      "{'chat_id': '36985739', 'disable_notification': 'false', 'text': 'GRU - Total time taken 2609.8481068611145 sec\\n'}\n"
     ]
    }
   ]
  },
  {
   "cell_type": "markdown",
   "source": [
    "## Evaluating the model"
   ],
   "metadata": {
    "id": "mU3Ce8M6I3rz",
    "pycharm": {
     "name": "#%% md\n"
    }
   }
  },
  {
   "cell_type": "code",
   "source": [
    "def evaluate(sentence):\n",
    "  attention_plot = np.zeros((max_target_length, max_source_length))\n",
    "\n",
    "  sentence = preprocess_sentence(sentence)\n",
    "  #print(sentence)\n",
    "  #print(source_sentence_tokenizer.word_index)\n",
    "\n",
    "  inputs = []\n",
    "  for i in sentence.split(' '):\n",
    "      try:\n",
    "        inputs.append(source_sentence_tokenizer.word_index[i])\n",
    "      except:\n",
    "        pass\n",
    "  #inputs = [source_sentence_tokenizer.word_index[i] for i in sentence.split(' ')]\n",
    "  inputs = tf.keras.preprocessing.sequence.pad_sequences([inputs],\n",
    "                                                         maxlen=max_source_length,\n",
    "                                                         padding='post')\n",
    "  inputs = tf.convert_to_tensor(inputs)\n",
    "\n",
    "  result = ''\n",
    "\n",
    "  hidden = [tf.zeros((1, units))]\n",
    "  enc_out, enc_hidden = encoder(inputs, hidden)\n",
    "\n",
    "  dec_hidden = enc_hidden\n",
    "  dec_input = tf.expand_dims([target_sentence_tokenizer.word_index['start_']], 0)\n",
    "\n",
    "  for t in range(max_target_length):\n",
    "    predictions, dec_hidden, attention_weights = decoder(dec_input,\n",
    "                                                         dec_hidden,\n",
    "                                                         enc_out)\n",
    "\n",
    "    # storing the attention weights to plot later on\n",
    "    attention_weights = tf.reshape(attention_weights, (-1, ))\n",
    "    attention_plot[t] = attention_weights.numpy()\n",
    "\n",
    "    predicted_id = tf.argmax(predictions[0]).numpy()\n",
    "\n",
    "    result += target_sentence_tokenizer.index_word[predicted_id] + ' '\n",
    "\n",
    "    if target_sentence_tokenizer.index_word[predicted_id] == '_end':\n",
    "      return result, sentence, attention_plot\n",
    "\n",
    "    dec_input = tf.expand_dims([predicted_id], 0)\n",
    "\n",
    "  return result, sentence, attention_plot"
   ],
   "metadata": {
    "id": "EbQpyYs13jF_",
    "execution": {
     "iopub.status.busy": "2022-07-19T10:30:49.722249Z",
     "iopub.execute_input": "2022-07-19T10:30:49.722619Z",
     "iopub.status.idle": "2022-07-19T10:30:49.735778Z",
     "shell.execute_reply.started": "2022-07-19T10:30:49.722580Z",
     "shell.execute_reply": "2022-07-19T10:30:49.734930Z"
    },
    "trusted": true,
    "pycharm": {
     "name": "#%%\n"
    }
   },
   "execution_count": 26,
   "outputs": []
  },
  {
   "cell_type": "markdown",
   "source": [
    "## To Plot Attention weights"
   ],
   "metadata": {
    "id": "E028E3NaT8Dc",
    "pycharm": {
     "name": "#%% md\n"
    }
   }
  },
  {
   "cell_type": "code",
   "source": [
    "# function for plotting the attention weights\n",
    "def plot_attention(attention, sentence, predicted_sentence):\n",
    "  fig = plt.figure(figsize=(10,10))\n",
    "  ax = fig.add_subplot(1, 1, 1)\n",
    "  ax.matshow(attention, cmap='viridis')\n",
    "\n",
    "  fontdict = {'fontsize': 14}\n",
    "\n",
    "  ax.set_xticklabels([''] + sentence, fontdict=fontdict, rotation=90)\n",
    "  ax.set_yticklabels([''] + predicted_sentence, fontdict=fontdict)\n",
    "\n",
    "  ax.xaxis.set_major_locator(ticker.MultipleLocator(1))\n",
    "  ax.yaxis.set_major_locator(ticker.MultipleLocator(1))\n",
    "\n",
    "  plt.show()"
   ],
   "metadata": {
    "id": "s5hQWlbN3jGF",
    "execution": {
     "iopub.status.busy": "2022-07-19T10:30:49.741809Z",
     "iopub.execute_input": "2022-07-19T10:30:49.742117Z",
     "iopub.status.idle": "2022-07-19T10:30:49.751235Z",
     "shell.execute_reply.started": "2022-07-19T10:30:49.742093Z",
     "shell.execute_reply": "2022-07-19T10:30:49.750247Z"
    },
    "trusted": true,
    "pycharm": {
     "name": "#%%\n"
    }
   },
   "execution_count": 27,
   "outputs": []
  },
  {
   "cell_type": "code",
   "source": [
    "def translate(sentence, show_attention=False):\n",
    "  result, sentence, attention_plot = evaluate(sentence)\n",
    "  \n",
    "  if show_attention:\n",
    "    attention_plot = attention_plot[:len(result.split(' ')), :len(sentence.split(' '))]\n",
    "    plot_attention(attention_plot, sentence.split(' '), result.split(' '))\n",
    "    \n",
    "  result = result.replace(\"_end\",\"\")\n",
    "  result = result.replace(\"start_\",\"\")\n",
    "  return result"
   ],
   "metadata": {
    "id": "sl9zUHzg3jGI",
    "execution": {
     "iopub.status.busy": "2022-07-19T10:30:49.753281Z",
     "iopub.execute_input": "2022-07-19T10:30:49.753843Z",
     "iopub.status.idle": "2022-07-19T10:30:49.767529Z",
     "shell.execute_reply.started": "2022-07-19T10:30:49.753809Z",
     "shell.execute_reply": "2022-07-19T10:30:49.766425Z"
    },
    "trusted": true,
    "pycharm": {
     "name": "#%%\n"
    }
   },
   "execution_count": 28,
   "outputs": []
  },
  {
   "cell_type": "markdown",
   "source": [
    "## Restore the latest checkpoint and test"
   ],
   "metadata": {
    "id": "n250XbnjOaqP",
    "pycharm": {
     "name": "#%% md\n"
    }
   }
  },
  {
   "cell_type": "code",
   "source": [
    "# restoring the latest checkpoint in checkpoint_dir\n",
    "checkpoint.restore(tf.train.latest_checkpoint(checkpoint_dir))"
   ],
   "metadata": {
    "id": "UJpT9D5_OgP6",
    "execution": {
     "iopub.status.busy": "2022-07-19T10:30:49.768942Z",
     "iopub.execute_input": "2022-07-19T10:30:49.769315Z",
     "iopub.status.idle": "2022-07-19T10:30:50.280249Z",
     "shell.execute_reply.started": "2022-07-19T10:30:49.769280Z",
     "shell.execute_reply": "2022-07-19T10:30:50.279385Z"
    },
    "trusted": true,
    "pycharm": {
     "name": "#%%\n"
    },
    "colab": {
     "base_uri": "https://localhost:8080/"
    },
    "outputId": "a86766e2-9b74-4d7f-a0fb-e2780f5a17a8"
   },
   "execution_count": 29,
   "outputs": [
    {
     "output_type": "execute_result",
     "data": {
      "text/plain": [
       "<tensorflow.python.training.tracking.util.CheckpointLoadStatus at 0x7f0882bb0550>"
      ]
     },
     "metadata": {},
     "execution_count": 29
    }
   ]
  },
  {
   "cell_type": "markdown",
   "source": [
    "## Final translations with Attention Plots"
   ],
   "metadata": {
    "id": "nSAbQknGT8De",
    "pycharm": {
     "name": "#%% md\n"
    }
   }
  },
  {
   "cell_type": "code",
   "source": [
    "translate(\"I picked a card from a deck.\", True)"
   ],
   "metadata": {
    "id": "8gh6GNJRbbGG",
    "execution": {
     "iopub.status.busy": "2022-07-19T10:30:50.282230Z",
     "iopub.execute_input": "2022-07-19T10:30:50.283213Z",
     "iopub.status.idle": "2022-07-19T10:30:50.687633Z",
     "shell.execute_reply.started": "2022-07-19T10:30:50.283175Z",
     "shell.execute_reply": "2022-07-19T10:30:50.686435Z"
    },
    "trusted": true,
    "pycharm": {
     "name": "#%%\n"
    },
    "colab": {
     "base_uri": "https://localhost:8080/",
     "height": 0
    },
    "outputId": "635606c5-3e00-407c-cff9-2b63509931bc"
   },
   "execution_count": 30,
   "outputs": [
    {
     "output_type": "display_data",
     "data": {
      "text/plain": [
       "<Figure size 720x720 with 1 Axes>"
      ],
      "image/png": "[encoded data removed]"
     },
     "metadata": {
      "needs_background": "light"
     }
    },
    {
     "output_type": "execute_result",
     "data": {
      "text/plain": [
       "'ho assunto una carta da una diga .  '"
      ],
      "application/vnd.google.colaboratory.intrinsic+json": {
       "type": "string"
      }
     },
     "metadata": {},
     "execution_count": 30
    }
   ]
  },
  {
   "cell_type": "markdown",
   "source": [
    "# Evaluation\n"
   ],
   "metadata": {
    "id": "1Id33nNDcMs_",
    "pycharm": {
     "name": "#%% md\n"
    }
   }
  },
  {
   "cell_type": "code",
   "source": [
    "def metric(target,output):\n",
    "    import evaluate\n",
    "    predictions = [output]\n",
    "    references = [target]\n",
    "    bleu = evaluate.load(\"bleu\")\n",
    "    try:\n",
    "        results = bleu.compute(predictions=predictions, references=references)[\"bleu\"]\n",
    "    except:\n",
    "        results = 0\n",
    "    return results"
   ],
   "metadata": {
    "id": "YkZchsMbcO18",
    "execution": {
     "iopub.status.busy": "2022-07-19T10:30:50.689059Z",
     "iopub.execute_input": "2022-07-19T10:30:50.689613Z",
     "iopub.status.idle": "2022-07-19T10:30:50.696598Z",
     "shell.execute_reply.started": "2022-07-19T10:30:50.689578Z",
     "shell.execute_reply": "2022-07-19T10:30:50.695241Z"
    },
    "trusted": true,
    "pycharm": {
     "name": "#%%\n"
    }
   },
   "execution_count": 31,
   "outputs": []
  },
  {
   "cell_type": "code",
   "source": [
    "with open(text_file) as f:\n",
    "    lines = f.read().split(\"\\n\")[:-1]\n",
    "text_pairs = []\n",
    "for line in lines:\n",
    "    eng, ita, _ = line.split(\"\\t\")\n",
    "    ita = \"[start] \" + ita + \" [end]\"\n",
    "    text_pairs.append((eng, ita))\n",
    "\n",
    "import random\n",
    "random.seed(39081)\n",
    "random.shuffle(text_pairs)"
   ],
   "metadata": {
    "id": "_J7nfxVUj4tk",
    "execution": {
     "iopub.status.busy": "2022-07-19T10:30:50.697997Z",
     "iopub.execute_input": "2022-07-19T10:30:50.698477Z",
     "iopub.status.idle": "2022-07-19T10:30:51.257886Z",
     "shell.execute_reply.started": "2022-07-19T10:30:50.698441Z",
     "shell.execute_reply": "2022-07-19T10:30:51.256912Z"
    },
    "trusted": true,
    "pycharm": {
     "name": "#%%\n"
    }
   },
   "execution_count": 32,
   "outputs": []
  },
  {
   "cell_type": "code",
   "source": [
    "num_train_samples = int(len(text_pairs)*0.80)\n",
    "train_pairs = text_pairs[:num_train_samples ]\n",
    "test_pairs = text_pairs[num_train_samples:]\n",
    "print(\"\")\n",
    "print(f\"{len(text_pairs)} total pairs\")\n",
    "print(f\"{len(train_pairs)} training pairs\")\n",
    "print(f\"{len(test_pairs)} test pairs\")"
   ],
   "metadata": {
    "id": "O5Ucbxu5j16j",
    "execution": {
     "iopub.status.busy": "2022-07-19T10:30:51.259085Z",
     "iopub.execute_input": "2022-07-19T10:30:51.259450Z",
     "iopub.status.idle": "2022-07-19T10:30:51.272133Z",
     "shell.execute_reply.started": "2022-07-19T10:30:51.259414Z",
     "shell.execute_reply": "2022-07-19T10:30:51.270875Z"
    },
    "trusted": true,
    "pycharm": {
     "name": "#%%\n"
    },
    "colab": {
     "base_uri": "https://localhost:8080/"
    },
    "outputId": "21f55fe7-8594-4203-b79d-c3f06a1ad61b"
   },
   "execution_count": 33,
   "outputs": [
    {
     "output_type": "stream",
     "name": "stdout",
     "text": [
      "\n",
      "354238 total pairs\n",
      "283390 training pairs\n",
      "70848 test pairs\n"
     ]
    }
   ]
  },
  {
   "cell_type": "code",
   "source": [
    "def clean(word):\n",
    "    clean_word = word.lower()\n",
    "    clean_word = clean_word.replace(\".\",\"\")\n",
    "    clean_word = clean_word.replace(\"\\\"\",\"\")\n",
    "    clean_word = clean_word.replace(\",\",\"\")\n",
    "    clean_word = clean_word.replace(\"[start]\",\"\")\n",
    "    clean_word = clean_word.replace(\"[end]\",\"\")\n",
    "    clean_word = clean_word.strip()\n",
    "    return clean_word"
   ],
   "metadata": {
    "id": "KQBLJdB9lT6e",
    "execution": {
     "iopub.status.busy": "2022-07-19T10:30:51.274016Z",
     "iopub.execute_input": "2022-07-19T10:30:51.274778Z",
     "iopub.status.idle": "2022-07-19T10:30:51.281522Z",
     "shell.execute_reply.started": "2022-07-19T10:30:51.274741Z",
     "shell.execute_reply": "2022-07-19T10:30:51.280675Z"
    },
    "trusted": true,
    "pycharm": {
     "name": "#%%\n"
    }
   },
   "execution_count": 34,
   "outputs": []
  },
  {
   "cell_type": "code",
   "source": [
    "def calculate_metric_on_testset():\n",
    "    try:\n",
    "        result = 0\n",
    "        count = 0\n",
    "        for i,item in enumerate(test_pairs[0:100]):\n",
    "            input_eng = clean(item[0])   #eng\n",
    "            target = clean(item[1])  #ita\n",
    "            output = clean(translate(input_eng))\n",
    "            item_result = metric(target,output)\n",
    "\n",
    "            print(\"=================== TEST #\", i, \"===================\")\n",
    "            print(\"🇮🇹 \",target)\n",
    "            print(\"🇺🇸 \",input_eng)\n",
    "            print(\"Translated: \",output)\n",
    "            print(\"BLEU score: \", item_result)\n",
    "            result+=item_result\n",
    "            count+=1\n",
    "\n",
    "        final_result = result/count\n",
    "        return final_result\n",
    "    except Exception as e:\n",
    "        print(\">>> Exception:\", e)\n",
    "        return -1"
   ],
   "metadata": {
    "id": "tBxDWBhJcTvA",
    "execution": {
     "iopub.status.busy": "2022-07-19T10:30:51.283199Z",
     "iopub.execute_input": "2022-07-19T10:30:51.283693Z",
     "iopub.status.idle": "2022-07-19T10:30:51.306296Z",
     "shell.execute_reply.started": "2022-07-19T10:30:51.283652Z",
     "shell.execute_reply": "2022-07-19T10:30:51.305139Z"
    },
    "trusted": true,
    "pycharm": {
     "name": "#%%\n"
    }
   },
   "execution_count": 35,
   "outputs": []
  },
  {
   "cell_type": "code",
   "source": [
    "result = calculate_metric_on_testset()\n",
    "print(\"\\nResult:\", result)\n",
    "sendMessage('GRU [5 epoche] - Total time taken {} sec\\n'.format(result))"
   ],
   "metadata": {
    "id": "Cb5jQyx6cU21",
    "execution": {
     "iopub.status.busy": "2022-07-19T10:30:51.307528Z",
     "iopub.execute_input": "2022-07-19T10:30:51.308440Z",
     "iopub.status.idle": "2022-07-19T10:30:53.465134Z",
     "shell.execute_reply.started": "2022-07-19T10:30:51.308405Z",
     "shell.execute_reply": "2022-07-19T10:30:53.464230Z"
    },
    "trusted": true,
    "pycharm": {
     "name": "#%%\n"
    },
    "colab": {
     "base_uri": "https://localhost:8080/",
     "height": 1000,
     "referenced_widgets": [
      "ad14a76f7ff74273885edf357a878434",
      "2a4662aee829435eac911b4a7f55760d",
      "ab99f1aebed746968424b1639f0b5088",
      "9bbbd23bb8b049b5b56c42cd69f16a38",
      "b8ca8513973f4b819f259be434bb413e",
      "d55d2dbca07c458e805a7c00629aad8f",
      "b18fee168d764d838c6f923f1776d97e",
      "2944e11709e54546bd8a45c5717cb6fb",
      "67d198861cf14d5aab678b31474392a1",
      "303a2cfd7f7e41e6853e7c1b5a63258a",
      "462d957a2ccd487ca3129ea7a078d4c4",
      "a52b47b89e9b47d99ddf508b4370249e",
      "9aebeae57403458e849b20b683707b91",
      "3a51544364b04c888dc53d2177166b64",
      "fe439ff9f46747f5a9ebc3e3a6dbdb94",
      "3f7b8bdbb6b04066954f6d5b48005499",
      "6876e384d74c426984d8f1ce7b44f5df",
      "b633cf0cdac34daabb8d59132f8535ef",
      "8f56c70a2f3e492a9bb865142bbf35d2",
      "99a4c3a45fe64cf89eef43fc6b17eb59",
      "0d38c3d7226c47aea94ddff2ae20fa6f",
      "c94e88dcefd8493ca2892fb7a9b88715",
      "c8b35b18f7234458a1f7b31bd950facf",
      "f95d7cc94e7047dda680e31b193c8bb1",
      "2ea387ea79b0409dbddd81111c6ea974",
      "172e7db85ff54a7e82bd7302ae30686c",
      "a1449b21559042049ff65e5ce7610753",
      "ce2043ffbb9647d88dcef28dc2297ad3",
      "7a2c56b824e448e992c26628cf4f7590",
      "aedaa0b0e8cc4d6398913448b3d36a18",
      "bb5b74ef89764d2d911921acf5d87642",
      "10cadcbd625e425da1c5ecef030b1057",
      "c7b35b8d2a19436e89b2a7e8e9316315"
     ]
    },
    "outputId": "556eb9d3-b748-4858-b525-6597847c687c"
   },
   "execution_count": 36,
   "outputs": [
    {
     "output_type": "display_data",
     "data": {
      "text/plain": [
       "Downloading builder script:   0%|          | 0.00/2.46k [00:00<?, ?B/s]"
      ],
      "application/vnd.jupyter.widget-view+json": {
       "version_major": 2,
       "version_minor": 0,
       "model_id": "ad14a76f7ff74273885edf357a878434"
      }
     },
     "metadata": {}
    },
    {
     "output_type": "display_data",
     "data": {
      "text/plain": [
       "Downloading extra modules:   0%|          | 0.00/1.55k [00:00<?, ?B/s]"
      ],
      "application/vnd.jupyter.widget-view+json": {
       "version_major": 2,
       "version_minor": 0,
       "model_id": "a52b47b89e9b47d99ddf508b4370249e"
      }
     },
     "metadata": {}
    },
    {
     "output_type": "display_data",
     "data": {
      "text/plain": [
       "Downloading extra modules:   0%|          | 0.00/1.29k [00:00<?, ?B/s]"
      ],
      "application/vnd.jupyter.widget-view+json": {
       "version_major": 2,
       "version_minor": 0,
       "model_id": "c8b35b18f7234458a1f7b31bd950facf"
      }
     },
     "metadata": {}
    },
    {
     "output_type": "stream",
     "name": "stdout",
     "text": [
      "=================== TEST # 0 ===================\n",
      "🇮🇹  dove andrà in vacanza?\n",
      "🇺🇸  where will you go for the vacation?\n",
      "Translated:  dove andrai in vacanza ?\n",
      "BLEU score:  0.0\n",
      "=================== TEST # 1 ===================\n",
      "🇮🇹  parlare inglese non è facile\n",
      "🇺🇸  speaking english isn't easy\n",
      "Translated:  parlare inglese non è facile\n",
      "BLEU score:  1.0\n",
      "=================== TEST # 2 ===================\n",
      "🇮🇹  ho visto un aereo\n",
      "🇺🇸  i saw a plane\n",
      "Translated:  io ho visto un aereo\n",
      "BLEU score:  0.668740304976422\n",
      "=================== TEST # 3 ===================\n",
      "🇮🇹  lui è occupato con i compiti a casa\n",
      "🇺🇸  he's busy with his homework now\n",
      "Translated:  è occupato con i suoi compiti\n",
      "BLEU score:  0.38498150077635496\n",
      "=================== TEST # 4 ===================\n",
      "🇮🇹  ha due anni in meno di lui\n",
      "🇺🇸  she's two years younger than him\n",
      "Translated:  lei ha due anni più giovane\n",
      "BLEU score:  0.0\n",
      "=================== TEST # 5 ===================\n",
      "🇮🇹  andrò a casa ora\n",
      "🇺🇸  i'm going to go home now\n",
      "Translated:  io andrò a casa ora\n",
      "BLEU score:  0.668740304976422\n",
      "=================== TEST # 6 ===================\n",
      "🇮🇹  tom è malato\n",
      "🇺🇸  tom's sick\n",
      "Translated:  tom è malato\n",
      "BLEU score:  0.0\n",
      "=================== TEST # 7 ===================\n",
      "🇮🇹  abbiamo fatto del volontariato\n",
      "🇺🇸  we volunteered\n",
      "Translated:  ci siamo arresi\n",
      "BLEU score:  0.0\n",
      "=================== TEST # 8 ===================\n",
      "🇮🇹  l'ho spento\n",
      "🇺🇸  i turned it off\n",
      "Translated:  lho rifiutato\n",
      "BLEU score:  0.0\n",
      "=================== TEST # 9 ===================\n",
      "🇮🇹  lui non accetterebbe il denaro\n",
      "🇺🇸  he would not take the money\n",
      "Translated:  non accetterebbe il denaro\n",
      "BLEU score:  0.7788007830714049\n",
      "=================== TEST # 10 ===================\n",
      "🇮🇹  tom non voleva giocare a golf col padre di mary\n",
      "🇺🇸  tom didn't want to play golf with mary's father\n",
      "Translated:  tom non voleva giocare a golf con mary\n",
      "BLEU score:  0.5506953149031837\n",
      "=================== TEST # 11 ===================\n",
      "🇮🇹  perché non suona più il banjo?\n",
      "🇺🇸  why don't you play the banjo anymore?\n",
      "Translated:  perché non gioca più in un passaggio ?\n",
      "BLEU score:  0.0\n",
      "=================== TEST # 12 ===================\n",
      "🇮🇹  ho già sentito questa storia\n",
      "🇺🇸  i've already heard this story\n",
      "Translated:  ho già sentito questa storia\n",
      "BLEU score:  1.0\n",
      "=================== TEST # 13 ===================\n",
      "🇮🇹  tom ha iniziato a parlare\n",
      "🇺🇸  tom began to speak\n",
      "Translated:  tom cominciò a parlare\n",
      "BLEU score:  0.0\n",
      "=================== TEST # 14 ===================\n",
      "🇮🇹  lei quanto spesso prende in prestito del denaro?\n",
      "🇺🇸  how often do you borrow money?\n",
      "Translated:  quanto spesso prende in prestito del denaro ?\n",
      "BLEU score:  0.8824969025845955\n",
      "=================== TEST # 15 ===================\n",
      "🇮🇹  tom è occupato ora quindi non riesce a parlare con lei\n",
      "🇺🇸  tom is busy now so he can't talk with you\n",
      "Translated:  tom è occupato ora che non riesce a parlare con te ne vada così con te voglia di parlare con te\n",
      "BLEU score:  0.28479942163807365\n",
      "=================== TEST # 16 ===================\n",
      "🇮🇹  se ne andò dal ristorante senza pagare\n",
      "🇺🇸  he left the restaurant without paying\n",
      "Translated:  ha lasciato il silenzio senza paura\n",
      "BLEU score:  0.0\n",
      "=================== TEST # 17 ===================\n",
      "🇮🇹  io ero stupida\n",
      "🇺🇸  i was stupid\n",
      "Translated:  io ero stupida\n",
      "BLEU score:  0.0\n",
      "=================== TEST # 18 ===================\n",
      "🇮🇹  tornerà fra un'ora\n",
      "🇺🇸  she will return within an hour\n",
      "Translated:  lei ritornerà fra unora\n",
      "BLEU score:  0.0\n",
      "=================== TEST # 19 ===================\n",
      "🇮🇹  tom e mary si stavano baciando quando sono entrata\n",
      "🇺🇸  tom and mary were kissing each other when i walked in\n",
      "Translated:  tom e mary stavano baciando a salire quando sono andati via due e due e due e due e due e\n",
      "BLEU score:  0.0\n",
      "=================== TEST # 20 ===================\n",
      "🇮🇹  penso che tom vincerà\n",
      "🇺🇸  i think tom is going to win\n",
      "Translated:  io penso che tom stia per vincere\n",
      "BLEU score:  0.0\n",
      "=================== TEST # 21 ===================\n",
      "🇮🇹  tu potresti morire\n",
      "🇺🇸  you could die\n",
      "Translated:  potrebbe morire\n",
      "BLEU score:  0.0\n",
      "=================== TEST # 22 ===================\n",
      "🇮🇹  pensavo che tom fosse in pensione\n",
      "🇺🇸  i thought tom was retired\n",
      "Translated:  io pensavo che tom fosse in pensione\n",
      "BLEU score:  0.8091067115702212\n",
      "=================== TEST # 23 ===================\n",
      "🇮🇹  tom è fuggito per il rotto della cuffia\n",
      "🇺🇸  tom escaped by the skin of his teeth\n",
      "Translated:  tom è fuggito dalla sua età\n",
      "BLEU score:  0.0\n",
      "=================== TEST # 24 ===================\n",
      "🇮🇹  tom è quello che ha rotto la finestra ieri\n",
      "🇺🇸  tom is the one who broke the window yesterday\n",
      "Translated:  tom è quello che ha nascosto nella finestra\n",
      "BLEU score:  0.47750342648354643\n",
      "=================== TEST # 25 ===================\n",
      "🇮🇹  tom disse di darle questo\n",
      "🇺🇸  tom said to give you this\n",
      "Translated:  tom ha detto di darti questo\n",
      "BLEU score:  0.0\n",
      "=================== TEST # 26 ===================\n",
      "🇮🇹  sarei riuscita a farlo senza il suo aiuto\n",
      "🇺🇸  i could've done that without your help\n",
      "Translated:  avrei potuto fare senza il vostro aiuto\n",
      "BLEU score:  0.0\n",
      "=================== TEST # 27 ===================\n",
      "🇮🇹  a cosa serve questo?\n",
      "🇺🇸  what's this for?\n",
      "Translated:  a cosa serve questo ?\n",
      "BLEU score:  1.0\n",
      "=================== TEST # 28 ===================\n",
      "🇮🇹  ha iniziato a piovere forte per tale ragione noi abbiamo suonato dentro\n",
      "🇺🇸  it started raining hard because of that we played inside\n",
      "Translated:  cominciò a piovere quando è risolto\n",
      "BLEU score:  0.0\n",
      "=================== TEST # 29 ===================\n",
      "🇮🇹  io sono triste di vedervi partire\n",
      "🇺🇸  i'm sad to see you go\n",
      "Translated:  sono triste di vedervi partire\n",
      "BLEU score:  0.8187307530779819\n",
      "=================== TEST # 30 ===================\n",
      "🇮🇹  perché le piace fare questo?\n",
      "🇺🇸  why do you like doing this?\n",
      "Translated:  perché vi piace fare questo ?\n",
      "BLEU score:  0.537284965911771\n",
      "=================== TEST # 31 ===================\n",
      "🇮🇹  sanno cos'è successo\n",
      "🇺🇸  they know what happened\n",
      "Translated:  loro sanno cosè successo\n",
      "BLEU score:  0.0\n",
      "=================== TEST # 32 ===================\n",
      "🇮🇹  tom morì con un coltello nella schiena\n",
      "🇺🇸  tom died with a knife in his back\n",
      "Translated:  tom è morto con un coltello in mano\n",
      "BLEU score:  0.0\n",
      "=================== TEST # 33 ===================\n",
      "🇮🇹  che grosso camion!\n",
      "🇺🇸  what a big truck!\n",
      "Translated:  che giornata !\n",
      "BLEU score:  0.0\n",
      "=================== TEST # 34 ===================\n",
      "🇮🇹  mio marito ha perso il suo impiego\n",
      "🇺🇸  my husband lost his job\n",
      "Translated:  mio marito ha perso il suo lavoro\n",
      "BLEU score:  0.8091067115702212\n",
      "=================== TEST # 35 ===================\n",
      "🇮🇹  io sono così felice in questo momento\n",
      "🇺🇸  i'm so happy right now\n",
      "Translated:  sono così felice in questo momento\n",
      "BLEU score:  0.846481724890614\n",
      "=================== TEST # 36 ===================\n",
      "🇮🇹  lei mi ha spiato\n",
      "🇺🇸  you've been spying on me\n",
      "Translated:  mi avete spiato\n",
      "BLEU score:  0.0\n",
      "=================== TEST # 37 ===================\n",
      "🇮🇹  ciò che pensa è irrilevante\n",
      "🇺🇸  what you think is irrelevant\n",
      "Translated:  quello che pensa che è irrilevante\n",
      "BLEU score:  0.0\n",
      "=================== TEST # 38 ===================\n",
      "🇮🇹  perché non sei pronto?\n",
      "🇺🇸  why aren't you prepared?\n",
      "Translated:  perché non siete preparate ?\n",
      "BLEU score:  0.0\n",
      "=================== TEST # 39 ===================\n",
      "🇮🇹  non ho mai fatto il vostro nome\n",
      "🇺🇸  i've never mentioned your name\n",
      "Translated:  non ho mai fatto il vostro nome\n",
      "BLEU score:  1.0\n",
      "=================== TEST # 40 ===================\n",
      "🇮🇹  che succede la settimana prossima?\n",
      "🇺🇸  what's happening next week?\n",
      "Translated:  cosa sta succedendo la settimana prossima ?\n",
      "BLEU score:  0.4111336169005197\n",
      "=================== TEST # 41 ===================\n",
      "🇮🇹  fai come se fossi a casa tua\n",
      "🇺🇸  make yourself at home\n",
      "Translated:  si faccia venire a casa\n",
      "BLEU score:  0.0\n",
      "=================== TEST # 42 ===================\n",
      "🇮🇹  perché non sta ballando?\n",
      "🇺🇸  why aren't you dancing?\n",
      "Translated:  perché non state danzando ?\n",
      "BLEU score:  0.0\n",
      "=================== TEST # 43 ===================\n",
      "🇮🇹  mettetela in freezer\n",
      "🇺🇸  put it in the freezer\n",
      "Translated:  mettetela in freezer\n",
      "BLEU score:  0.0\n",
      "=================== TEST # 44 ===================\n",
      "🇮🇹  tom si svegliò con un dolore nel fianco\n",
      "🇺🇸  tom woke up with a pain in his side\n",
      "Translated:  tom si è svegliato con un genio per la sua\n",
      "BLEU score:  0.0\n",
      "=================== TEST # 45 ===================\n",
      "🇮🇹  si dovrebbe prendere un altro paio di occhiali quando si va all'estero\n",
      "🇺🇸  you should take another pair of glasses when you go abroad\n",
      "Translated:  dovrebbe avere un altro paio di dormire ovunque vada allestero per cucinare fino a dormire ovunque due macchina fotografica ovunque vada\n",
      "BLEU score:  0.12021577610863723\n",
      "=================== TEST # 46 ===================\n",
      "🇮🇹  tom deve farlo presto\n",
      "🇺🇸  tom needs to do that soon\n",
      "Translated:  tom deve farlo presto\n",
      "BLEU score:  1.0\n",
      "=================== TEST # 47 ===================\n",
      "🇮🇹  il sistema funzionò\n",
      "🇺🇸  the system worked\n",
      "Translated:  il sistema ha funzionato\n",
      "BLEU score:  0.0\n",
      "=================== TEST # 48 ===================\n",
      "🇮🇹  ho portato il mio\n",
      "🇺🇸  i brought mine\n",
      "Translated:  io ho portato i miei\n",
      "BLEU score:  0.0\n",
      "=================== TEST # 49 ===================\n",
      "🇮🇹  io avevo ragione\n",
      "🇺🇸  i was correct\n",
      "Translated:  io mi sbagliavo\n",
      "BLEU score:  0.0\n",
      "=================== TEST # 50 ===================\n",
      "🇮🇹  lui viene a trovarmi quasi ogni giorno\n",
      "🇺🇸  he comes to see me nearly every day\n",
      "Translated:  lui viene a vedere quasi ogni giorno\n",
      "BLEU score:  0.0\n",
      "=================== TEST # 51 ===================\n",
      "🇮🇹  io voglio imparare a suonare lo xilofono\n",
      "🇺🇸  i want to learn how to play the xylophone\n",
      "Translated:  voglio imparare a giocare a giocare\n",
      "BLEU score:  0.0\n",
      "=================== TEST # 52 ===================\n",
      "🇮🇹  sto iniziando a capire l'idea\n",
      "🇺🇸  i'm starting to get the idea\n",
      "Translated:  sto iniziando a capire lidea\n",
      "BLEU score:  0.668740304976422\n",
      "=================== TEST # 53 ===================\n",
      "🇮🇹  penso che sia molto pericoloso\n",
      "🇺🇸  i think it's very dangerous\n",
      "Translated:  penso sia molto pericoloso\n",
      "BLEU score:  0.0\n",
      "=================== TEST # 54 ===================\n",
      "🇮🇹  tom ha molte amiche?\n",
      "🇺🇸  does tom have a lot of friends?\n",
      "Translated:  tom ha molte amiche ?\n",
      "BLEU score:  1.0\n",
      "=================== TEST # 55 ===================\n",
      "🇮🇹  dobbiamo partire immediatamente\n",
      "🇺🇸  we must leave right away\n",
      "Translated:  dobbiamo andarcene immediatamente\n",
      "BLEU score:  0.0\n",
      "=================== TEST # 56 ===================\n",
      "🇮🇹  tom ha perso tutto il suo denaro\n",
      "🇺🇸  tom lost all of his money\n",
      "Translated:  tom ha perso tutto il suo denaro\n",
      "BLEU score:  1.0\n",
      "=================== TEST # 57 ===================\n",
      "🇮🇹  il parco è situato nel centro della città\n",
      "🇺🇸  the park is located in the center of the city\n",
      "Translated:  il parco è situata nel giardino\n",
      "BLEU score:  0.0\n",
      "=================== TEST # 58 ===================\n",
      "🇮🇹  vorrei passare un po' di tempo da solo con tom\n",
      "🇺🇸  i'd like to have some time alone with tom\n",
      "Translated:  vorrei avere un po di tempo da solo\n",
      "BLEU score:  0.2979714705451885\n",
      "=================== TEST # 59 ===================\n",
      "🇮🇹  io penso di capirti\n",
      "🇺🇸  i think i understand you\n",
      "Translated:  penso di capirti\n",
      "BLEU score:  0.0\n",
      "=================== TEST # 60 ===================\n",
      "🇮🇹  da quando ti importa dell'etica?\n",
      "🇺🇸  since when do you care about ethics?\n",
      "Translated:  quando vi importa ?\n",
      "BLEU score:  0.0\n",
      "=================== TEST # 61 ===================\n",
      "🇮🇹  avete appena detto il mio nome?\n",
      "🇺🇸  did you just say my name?\n",
      "Translated:  avete appena detto il mio nome ?\n",
      "BLEU score:  1.0\n",
      "=================== TEST # 62 ===================\n",
      "🇮🇹  andate a lavarvi i denti!\n",
      "🇺🇸  go brush your teeth\n",
      "Translated:  vai a lavarti i denti !\n",
      "BLEU score:  0.0\n",
      "=================== TEST # 63 ===================\n",
      "🇮🇹  venda la sua roba\n",
      "🇺🇸  sell your stuff\n",
      "Translated:  chiamate la sua roba\n",
      "BLEU score:  0.0\n",
      "=================== TEST # 64 ===================\n",
      "🇮🇹  noi possiamo essere ancora amiche\n",
      "🇺🇸  we can still be friends\n",
      "Translated:  noi possiamo essere ancora amici\n",
      "BLEU score:  0.668740304976422\n",
      "=================== TEST # 65 ===================\n",
      "🇮🇹  penso che sarebbe stato affascinante\n",
      "🇺🇸  i think that would've been fascinating\n",
      "Translated:  penso che lei era difficile\n",
      "BLEU score:  0.0\n",
      "=================== TEST # 66 ===================\n",
      "🇮🇹  questo è del manzo davvero buono\n",
      "🇺🇸  this is really good beef\n",
      "Translated:  questo è davvero bene il pesce\n",
      "BLEU score:  0.0\n",
      "=================== TEST # 67 ===================\n",
      "🇮🇹  ridammi quel telefono\n",
      "🇺🇸  give me that phone back\n",
      "Translated:  mi dia quel telefono\n",
      "BLEU score:  0.0\n",
      "=================== TEST # 68 ===================\n",
      "🇮🇹  sembri un po' pallida\n",
      "🇺🇸  you look a little pale\n",
      "Translated:  sembri un po pallido\n",
      "BLEU score:  0.0\n",
      "=================== TEST # 69 ===================\n",
      "🇮🇹  ho vissuto a boston per qualche anno\n",
      "🇺🇸  i lived in boston for a few years\n",
      "Translated:  io ho abitato a boston per qualche giorno\n",
      "BLEU score:  0.3655552228545123\n",
      "=================== TEST # 70 ===================\n",
      "🇮🇹  chi è lui?\n",
      "🇺🇸  who's he?\n",
      "Translated:  chi è ?\n",
      "BLEU score:  0.0\n",
      "=================== TEST # 71 ===================\n",
      "🇮🇹  c'è qualcosa che voglio dirle\n",
      "🇺🇸  there's something that i want to tell you\n",
      "Translated:  cè qualcosa che voglio che so\n",
      "BLEU score:  0.0\n",
      "=================== TEST # 72 ===================\n",
      "🇮🇹  lo so che tom era il vostro migliore amico\n",
      "🇺🇸  i know tom was your best friend\n",
      "Translated:  so che tom era il suo migliore di suo amico\n",
      "BLEU score:  0.42728700639623407\n",
      "=================== TEST # 73 ===================\n",
      "🇮🇹  non pensavo che tom avrebbe vinto\n",
      "🇺🇸  i didn't think that tom would win\n",
      "Translated:  non lho detto che tom avrebbe vinto\n",
      "BLEU score:  0.4347208719449915\n",
      "=================== TEST # 74 ===================\n",
      "🇮🇹  tom le ha mandato qualcosa\n",
      "🇺🇸  tom sent you something\n",
      "Translated:  tom vi ha mandato qualcosa\n",
      "BLEU score:  0.0\n",
      "=================== TEST # 75 ===================\n",
      "🇮🇹  sono sicura\n",
      "🇺🇸  i am sure\n",
      "Translated:  sono sicura\n",
      "BLEU score:  0.0\n",
      "=================== TEST # 76 ===================\n",
      "🇮🇹  non avevo intenzione di dire così tanto\n",
      "🇺🇸  i hadn't intended to say so much\n",
      "Translated:  non ho guardato per nulla così tanto\n",
      "BLEU score:  0.0\n",
      "=================== TEST # 77 ===================\n",
      "🇮🇹  lei ha un dizionario vero? posso usarlo?\n",
      "🇺🇸  you have a dictionary don't you? can i use it?\n",
      "Translated:  tu hai un dizionario non vi può usarlo ?\n",
      "BLEU score:  0.0\n",
      "=================== TEST # 78 ===================\n",
      "🇮🇹  tom ha molto dolore\n",
      "🇺🇸  tom is in a lot of pain\n",
      "Translated:  tom è molto dolore\n",
      "BLEU score:  0.0\n",
      "=================== TEST # 79 ===================\n",
      "🇮🇹  io non ho capito la domanda\n",
      "🇺🇸  i didn't understand the question\n",
      "Translated:  non ho capito la domanda\n",
      "BLEU score:  0.8187307530779819\n",
      "=================== TEST # 80 ===================\n",
      "🇮🇹  mi colse di sorpresa\n",
      "🇺🇸  it caught me by surprise\n",
      "Translated:  mi ha colto di sorpresa\n",
      "BLEU score:  0.0\n",
      "=================== TEST # 81 ===================\n",
      "🇮🇹  lavorammo tutto il giorno\n",
      "🇺🇸  we worked all day\n",
      "Translated:  abbiamo lavorato tutto il giorno\n",
      "BLEU score:  0.0\n",
      "=================== TEST # 82 ===================\n",
      "🇮🇹  sono molto impegnata ora\n",
      "🇺🇸  i'm very busy now\n",
      "Translated:  sono molto occupato ora\n",
      "BLEU score:  0.0\n",
      "=================== TEST # 83 ===================\n",
      "🇮🇹  inventò una scusa\n",
      "🇺🇸  he thought up an excuse\n",
      "Translated:  lui ha guardato una scusa\n",
      "BLEU score:  0.0\n",
      "=================== TEST # 84 ===================\n",
      "🇮🇹  non avevamo niente di meglio da fare\n",
      "🇺🇸  we had nothing better to do\n",
      "Translated:  non avevamo niente di meglio da fare\n",
      "BLEU score:  1.0\n",
      "=================== TEST # 85 ===================\n",
      "🇮🇹  non fuma\n",
      "🇺🇸  she does not smoke\n",
      "Translated:  lei non fuma\n",
      "BLEU score:  0.0\n",
      "=================== TEST # 86 ===================\n",
      "🇮🇹  sarà a boston per natale?\n",
      "🇺🇸  will you be in boston for christmas?\n",
      "Translated:  sarete a boston per natale ?\n",
      "BLEU score:  0.7598356856515925\n",
      "=================== TEST # 87 ===================\n",
      "🇮🇹  sii qui per le due e mezza\n",
      "🇺🇸  be here by 2:30\n",
      "Translated:  sii qui per le due e mezza\n",
      "BLEU score:  1.0\n",
      "=================== TEST # 88 ===================\n",
      "🇮🇹  pensa di poterlo riparare?\n",
      "🇺🇸  do you think you can fix it?\n",
      "Translated:  pensi di riuscire a ripararla ?\n",
      "BLEU score:  0.0\n",
      "=================== TEST # 89 ===================\n",
      "🇮🇹  che cosa stai facendo papà?\n",
      "🇺🇸  what are you doing dad?\n",
      "Translated:  che cosa state facendo queste ?\n",
      "BLEU score:  0.0\n",
      "=================== TEST # 90 ===================\n",
      "🇮🇹  era semplicemente un disastro\n",
      "🇺🇸  it was just a disaster\n",
      "Translated:  era solamente un disastro\n",
      "BLEU score:  0.0\n",
      "=================== TEST # 91 ===================\n",
      "🇮🇹  siamo andati fino a kyoto\n",
      "🇺🇸  we went as far as kyoto\n",
      "Translated:  siamo andati come è per quel che era\n",
      "BLEU score:  0.0\n",
      "=================== TEST # 92 ===================\n",
      "🇮🇹  io penso che dovrebbe ascoltarmi\n",
      "🇺🇸  i think you should listen to me\n",
      "Translated:  penso che mi dovrebbe ascoltare\n",
      "BLEU score:  0.0\n",
      "=================== TEST # 93 ===================\n",
      "🇮🇹  tom lo sta tendendo\n",
      "🇺🇸  tom is holding it\n",
      "Translated:  tom la sta tenendo\n",
      "BLEU score:  0.0\n",
      "=================== TEST # 94 ===================\n",
      "🇮🇹  dica a tom che sto nuotando\n",
      "🇺🇸  tell tom that i'm swimming\n",
      "Translated:  di a tom che sto nuotando\n",
      "BLEU score:  0.7598356856515925\n",
      "=================== TEST # 95 ===================\n",
      "🇮🇹  devo studiare in continuo\n",
      "🇺🇸  i have to study all the time\n",
      "Translated:  devo studiare per tutto il tempo\n",
      "BLEU score:  0.0\n",
      "=================== TEST # 96 ===================\n",
      "🇮🇹  stavo pranzando quando è suonato il telefono\n",
      "🇺🇸  i was eating lunch when the phone rang\n",
      "Translated:  io stavo mangiando il pranzo al telefono\n",
      "BLEU score:  0.0\n",
      "=================== TEST # 97 ===================\n",
      "🇮🇹  studio l'inglese a casa\n",
      "🇺🇸  i study english at home\n",
      "Translated:  io studio linglese a casa\n",
      "BLEU score:  0.0\n",
      "=================== TEST # 98 ===================\n",
      "🇮🇹  ridalla\n",
      "🇺🇸  give it back\n",
      "Translated:  lo ridia\n",
      "BLEU score:  0.0\n",
      "=================== TEST # 99 ===================\n",
      "🇮🇹  starò qui per un paio di mesi\n",
      "🇺🇸  i'm going to stay here for a couple of months\n",
      "Translated:  io sto per stare per un paio di tre anni\n",
      "BLEU score:  0.2626909894424158\n",
      "\n",
      "Result: 0.24512926514957323\n"
     ]
    }
   ]
  }
 ]
}